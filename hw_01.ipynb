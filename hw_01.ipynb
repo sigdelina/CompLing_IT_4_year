{
 "cells": [
  {
   "cell_type": "markdown",
   "metadata": {
    "colab_type": "text",
    "id": "nzfD_Wk1ZN6L"
   },
   "source": [
    "# Домашнее задание №1\n",
    "\n",
    "### **Dataset of depressive posts in Russian language collected from social media** [(paper)](https://www.sciencedirect.com/science/article/pii/S2352340920300895)\n",
    "\n",
    "Скачать датасет в формате .tsv можно [здесь](https://yadi.sk/d/G5rq-R3AK8SOuw).\n",
    "\n",
    "\n",
    "В качестве задания предлагается:\n",
    "1. Использовать ```pandas``` и ряд инструментов для автоматической обработки текстов на русском языке, чтобы ответить на вопросы.\n",
    "2. Написать функции для извлечения текстовых признаков.\n",
    "\n",
    "Не рекомендуется использовать ```nltk``` для сегментации/токенизации текстов, поскольку существуют инструменты, которые выполняют свою задачу для русского значительно лучше – их мы обсуждали с вами на занятии.\n",
    "\n",
    "\n",
    "**Дедлайн**: 23 сентября 23:59"
   ]
  },
  {
   "cell_type": "code",
   "execution_count": 2,
   "metadata": {
    "colab": {
     "base_uri": "https://localhost:8080/",
     "height": 419
    },
    "colab_type": "code",
    "id": "9tsSaFBdgu1B",
    "outputId": "25753287-d31f-4e56-a472-7f8998d353e2"
   },
   "outputs": [
    {
     "data": {
      "text/html": [
       "<div>\n",
       "<style scoped>\n",
       "    .dataframe tbody tr th:only-of-type {\n",
       "        vertical-align: middle;\n",
       "    }\n",
       "\n",
       "    .dataframe tbody tr th {\n",
       "        vertical-align: top;\n",
       "    }\n",
       "\n",
       "    .dataframe thead th {\n",
       "        text-align: right;\n",
       "    }\n",
       "</style>\n",
       "<table border=\"1\" class=\"dataframe\">\n",
       "  <thead>\n",
       "    <tr style=\"text-align: right;\">\n",
       "      <th></th>\n",
       "      <th>text</th>\n",
       "      <th>label</th>\n",
       "      <th>age</th>\n",
       "    </tr>\n",
       "  </thead>\n",
       "  <tbody>\n",
       "    <tr>\n",
       "      <th>0</th>\n",
       "      <td>Когда-то я был добрым романтиком, который стре...</td>\n",
       "      <td>1</td>\n",
       "      <td>32.0</td>\n",
       "    </tr>\n",
       "    <tr>\n",
       "      <th>1</th>\n",
       "      <td>Здраствуйте! Я каждый день просыпаюсь с мыслью...</td>\n",
       "      <td>1</td>\n",
       "      <td>28.0</td>\n",
       "    </tr>\n",
       "    <tr>\n",
       "      <th>2</th>\n",
       "      <td>У меня проблемы с девушкой. Каждую ссору я не ...</td>\n",
       "      <td>1</td>\n",
       "      <td>16.0</td>\n",
       "    </tr>\n",
       "    <tr>\n",
       "      <th>3</th>\n",
       "      <td>Вся моя жизнь это один сплошной ад, в котором ...</td>\n",
       "      <td>1</td>\n",
       "      <td>32.0</td>\n",
       "    </tr>\n",
       "    <tr>\n",
       "      <th>4</th>\n",
       "      <td>Я хочу уснуть и не проснуться.каждый день одно...</td>\n",
       "      <td>1</td>\n",
       "      <td>14.0</td>\n",
       "    </tr>\n",
       "  </tbody>\n",
       "</table>\n",
       "</div>"
      ],
      "text/plain": [
       "                                                text  label   age\n",
       "0  Когда-то я был добрым романтиком, который стре...      1  32.0\n",
       "1  Здраствуйте! Я каждый день просыпаюсь с мыслью...      1  28.0\n",
       "2  У меня проблемы с девушкой. Каждую ссору я не ...      1  16.0\n",
       "3  Вся моя жизнь это один сплошной ад, в котором ...      1  32.0\n",
       "4  Я хочу уснуть и не проснуться.каждый день одно...      1  14.0"
      ]
     },
     "execution_count": 2,
     "metadata": {},
     "output_type": "execute_result"
    }
   ],
   "source": [
    "import pandas as pd\n",
    "\n",
    "\n",
    "df = pd.read_csv(\"depression_data.tsv\", sep=\"\\t\")\n",
    "df.head()"
   ]
  },
  {
   "cell_type": "markdown",
   "metadata": {
    "colab_type": "text",
    "id": "jgwa7XyGfuCI"
   },
   "source": [
    "### Часть 1: Простая статистика (2 балла)"
   ]
  },
  {
   "cell_type": "markdown",
   "metadata": {
    "colab_type": "text",
    "id": "YP1iOWbjh2zw"
   },
   "source": [
    "Зачастую в данных, с которыми вы работаете, может быть много неприятных для обработки вещей. Например, мы видим, что в колонке ```age``` очень грязные значения."
   ]
  },
  {
   "cell_type": "code",
   "execution_count": 21,
   "metadata": {},
   "outputs": [
    {
     "data": {
      "text/plain": [
       "0             39725\n",
       "16             1823\n",
       "17             1811\n",
       "18             1661\n",
       "15             1582\n",
       "20             1543\n",
       "19             1402\n",
       "21             1273\n",
       "14             1228\n",
       "22             1154\n",
       "23             1120\n",
       "25             1011\n",
       "24              917\n",
       "26              760\n",
       "27              700\n",
       "13              673\n",
       "28              608\n",
       "30              577\n",
       "29              479\n",
       "12              353\n",
       "32              338\n",
       "31              311\n",
       "33              274\n",
       "35              269\n",
       "34              243\n",
       "40              213\n",
       "38              212\n",
       "36              208\n",
       "37              182\n",
       "39              144\n",
       "              ...  \n",
       "1017              1\n",
       "154               1\n",
       "666               1\n",
       "1018              1\n",
       "155               1\n",
       "200               1\n",
       "211260            1\n",
       "92                1\n",
       "14715             1\n",
       "125               1\n",
       "830               1\n",
       "1214              1\n",
       "2324              1\n",
       "116               1\n",
       "275               1\n",
       "1230011997        1\n",
       "241127            1\n",
       "111               1\n",
       "159               1\n",
       "365               1\n",
       "109               1\n",
       "235               1\n",
       "2122              1\n",
       "1994              1\n",
       "458               1\n",
       "2025              1\n",
       "2728              1\n",
       "265               1\n",
       "232               1\n",
       "2223              1\n",
       "Name: age, Length: 128, dtype: int64"
      ]
     },
     "execution_count": 21,
     "metadata": {},
     "output_type": "execute_result"
    }
   ],
   "source": [
    "df['age'] = df['age'].fillna(0)\n",
    "\n",
    "df['age'] = df['age'].astype(int)\n",
    "\n",
    "df['age'].value_counts()"
   ]
  },
  {
   "cell_type": "markdown",
   "metadata": {
    "colab_type": "text",
    "id": "5SqrBy6iloMd"
   },
   "source": [
    "1. Найдите среднее значение возраста в диапазоне от 14 до 50 лет включительно."
   ]
  },
  {
   "cell_type": "code",
   "execution_count": 23,
   "metadata": {
    "colab": {
     "base_uri": "https://localhost:8080/",
     "height": 34
    },
    "colab_type": "code",
    "id": "6AbzQhkakRfc",
    "outputId": "a98fbf94-aefb-4652-998e-0c2812ca3ab7"
   },
   "outputs": [
    {
     "data": {
      "text/plain": [
       "22.704171601526518"
      ]
     },
     "execution_count": 23,
     "metadata": {},
     "output_type": "execute_result"
    }
   ],
   "source": [
    "# your code and output here\n",
    "\n",
    "df[\"age\"][(df[\"age\"] >= 14.0) & (df[\"age\"] <= 50.0)].mean()"
   ]
  },
  {
   "cell_type": "markdown",
   "metadata": {
    "colab_type": "text",
    "id": "Pw5gpMkDk4R6"
   },
   "source": [
    "2. Какую долю 16-летние авторы составляют в диапазоне от 16 до 26 лет включительно?"
   ]
  },
  {
   "cell_type": "code",
   "execution_count": 24,
   "metadata": {
    "colab": {
     "base_uri": "https://localhost:8080/",
     "height": 34
    },
    "colab_type": "code",
    "id": "qXejPDLZj3eX",
    "outputId": "aede6a97-bdb4-4064-c2a5-9fce5f26852b"
   },
   "outputs": [
    {
     "data": {
      "text/plain": [
       "0.1259412780656304"
      ]
     },
     "execution_count": 24,
     "metadata": {},
     "output_type": "execute_result"
    }
   ],
   "source": [
    "# your code and output here\n",
    "\n",
    "len(\n",
    "    df[\"age\"][df[\"age\"] == 16.0])/len(\n",
    "        df[\"age\"][(df[\"age\"] >= 16.0) & (df[\"age\"] <= 26.0)]\n",
    "    )"
   ]
  },
  {
   "cell_type": "markdown",
   "metadata": {
    "colab_type": "text",
    "id": "vGinA-Swjvlc"
   },
   "source": [
    "3. Сколько в датасете текстов, авторам которых 28 или 30 лет?"
   ]
  },
  {
   "cell_type": "code",
   "execution_count": 25,
   "metadata": {
    "colab": {
     "base_uri": "https://localhost:8080/",
     "height": 34
    },
    "colab_type": "code",
    "id": "QNz0sLmjYLxr",
    "outputId": "648d90be-c6c6-4732-96da-7638d0c3e6b5"
   },
   "outputs": [
    {
     "data": {
      "text/plain": [
       "1185"
      ]
     },
     "execution_count": 25,
     "metadata": {},
     "output_type": "execute_result"
    }
   ],
   "source": [
    "# your code and output here\n",
    "\n",
    "len(\n",
    "   df[\"age\"][(df[\"age\"] == 28.0) | (df[\"age\"] == 30.0)]\n",
    "    )"
   ]
  },
  {
   "cell_type": "markdown",
   "metadata": {
    "colab_type": "text",
    "id": "WIiciL_BnJzl"
   },
   "source": [
    "4. С помощью одной встроенной в ```pandas``` функции отобразите всю статистику по колонке ```age``` в диапазоне от 18 до 30 лет включительно."
   ]
  },
  {
   "cell_type": "code",
   "execution_count": 26,
   "metadata": {
    "colab": {
     "base_uri": "https://localhost:8080/",
     "height": 170
    },
    "colab_type": "code",
    "id": "q2cC4Sxanka6",
    "outputId": "c762c9c4-de3f-46d5-bb49-2269a89e6cd6"
   },
   "outputs": [
    {
     "data": {
      "text/plain": [
       "count    13205.000000\n",
       "mean        22.676638\n",
       "std          3.550254\n",
       "min         18.000000\n",
       "25%         20.000000\n",
       "50%         22.000000\n",
       "75%         25.000000\n",
       "max         30.000000\n",
       "Name: age, dtype: float64"
      ]
     },
     "execution_count": 26,
     "metadata": {},
     "output_type": "execute_result"
    }
   ],
   "source": [
    "# your code and output here\n",
    "\n",
    "df[\"age\"][(df[\"age\"] >= 18.0) & (df[\"age\"] <= 30.0)].describe()"
   ]
  },
  {
   "cell_type": "markdown",
   "metadata": {
    "colab_type": "text",
    "id": "CT99FXGjoGs1"
   },
   "source": [
    "5. Сколько в датасете положительных / отрицательных примеров?"
   ]
  },
  {
   "cell_type": "code",
   "execution_count": 27,
   "metadata": {
    "colab": {
     "base_uri": "https://localhost:8080/",
     "height": 68
    },
    "colab_type": "code",
    "id": "j-nelLWJoMpT",
    "outputId": "853c2c50-f931-4c7f-c513-9ca4a201c9d4"
   },
   "outputs": [
    {
     "data": {
      "text/plain": [
       "0    32021\n",
       "1    32018\n",
       "Name: label, dtype: int64"
      ]
     },
     "execution_count": 27,
     "metadata": {},
     "output_type": "execute_result"
    }
   ],
   "source": [
    "# your code and output here\n",
    "\n",
    "df[\"label\"].value_counts()"
   ]
  },
  {
   "cell_type": "markdown",
   "metadata": {
    "colab_type": "text",
    "id": "QHldQF5FoAyB"
   },
   "source": [
    "### Часть 2: Предобработка (3 балла)"
   ]
  },
  {
   "cell_type": "code",
   "execution_count": 9,
   "metadata": {
    "colab": {
     "base_uri": "https://localhost:8080/",
     "height": 102
    },
    "colab_type": "code",
    "id": "kLQRY_U7qcgI",
    "outputId": "73722c1f-6b9b-43b3-dc4f-7d552a3c83a4"
   },
   "outputs": [
    {
     "name": "stdout",
     "output_type": "stream",
     "text": [
      "\u001b[33mWARNING: You are using pip version 20.1.1; however, version 20.2.3 is available.\n",
      "You should consider upgrading via the '/Users/macbook/anaconda3/bin/python -m pip install --upgrade pip' command.\u001b[0m\n",
      "\u001b[33mWARNING: You are using pip version 20.1.1; however, version 20.2.3 is available.\n",
      "You should consider upgrading via the '/Users/macbook/anaconda3/bin/python -m pip install --upgrade pip' command.\u001b[0m\n"
     ]
    }
   ],
   "source": [
    "!python -m pip install --upgrade --quiet seaborn\n",
    "!python -m pip install --quiet razdel pymorphy2[fast]"
   ]
  },
  {
   "cell_type": "markdown",
   "metadata": {
    "colab_type": "text",
    "id": "Mc1d4G-q671X"
   },
   "source": [
    "1. Посчитайте количество предложений в каждом тексте. Сохраните эти значения в отдельной колонке датафрейма."
   ]
  },
  {
   "cell_type": "code",
   "execution_count": 10,
   "metadata": {
    "colab": {},
    "colab_type": "code",
    "id": "IlVqAsPHrLjz"
   },
   "outputs": [],
   "source": [
    "from razdel import sentenize, tokenize"
   ]
  },
  {
   "cell_type": "code",
   "execution_count": 11,
   "metadata": {
    "colab": {},
    "colab_type": "code",
    "id": "x-dv4xaepZob"
   },
   "outputs": [],
   "source": [
    "# your code and output here\n",
    "\n",
    "all_sents = []\n",
    "texts = df.text.tolist()\n",
    "\n",
    "for text in texts:\n",
    "    len_text = list(sentenize(text))\n",
    "    all_sents.append(len(len_text))\n",
    "\n",
    "df['length'] = all_sents"
   ]
  },
  {
   "cell_type": "markdown",
   "metadata": {
    "colab_type": "text",
    "id": "NX7FxEafFTiy"
   },
   "source": [
    "2. Напишите функцию для токенизации текста. Удалите стоп-слова."
   ]
  },
  {
   "cell_type": "code",
   "execution_count": 15,
   "metadata": {
    "colab": {
     "base_uri": "https://localhost:8080/",
     "height": 68
    },
    "colab_type": "code",
    "id": "xRAaBtVtrh2t",
    "outputId": "81216594-152c-4afb-fa79-7bcf644ab956"
   },
   "outputs": [
    {
     "name": "stdout",
     "output_type": "stream",
     "text": [
      "[nltk_data] Downloading package stopwords to\n",
      "[nltk_data]     /Users/macbook/nltk_data...\n",
      "[nltk_data]   Package stopwords is already up-to-date!\n"
     ]
    },
    {
     "data": {
      "text/plain": [
       "True"
      ]
     },
     "execution_count": 15,
     "metadata": {},
     "output_type": "execute_result"
    }
   ],
   "source": [
    "import nltk\n",
    "nltk.download('stopwords')"
   ]
  },
  {
   "cell_type": "code",
   "execution_count": 16,
   "metadata": {
    "colab": {},
    "colab_type": "code",
    "id": "b_4Gh2Zxr5FY"
   },
   "outputs": [],
   "source": [
    "from nltk.corpus import stopwords"
   ]
  },
  {
   "cell_type": "code",
   "execution_count": 17,
   "metadata": {
    "colab": {},
    "colab_type": "code",
    "id": "Y1S782xBFlIi"
   },
   "outputs": [],
   "source": [
    "# your code and output here\n",
    "\n",
    "def get_tokens(text):\n",
    "    \"\"\"\n",
    "    здесь можно еще и знаки пунктуации убрать, но это скорее будет зависеть от того,\n",
    "    что мы хотим считать токенами: на всякий случай я сделала это отдельно\n",
    "    \"\"\"\n",
    "    tokenized_text = tokenize(text)\n",
    "    tokens = list(tokenized_text)\n",
    "    text_token = [_.text for _ in tokens]\n",
    "    text_end = ' '.join(\n",
    "            [wrd.lower() for wrd in text_token if wrd.lower() not in stopwords.words(\n",
    "                \"russian\")])\n",
    "    text_end_2 = ' '.join(w for w in text_token)\n",
    "    return text_end, text_end_2"
   ]
  },
  {
   "cell_type": "code",
   "execution_count": 18,
   "metadata": {
    "colab": {},
    "colab_type": "code",
    "id": "DH_H5Xt1wtxO"
   },
   "outputs": [],
   "source": [
    "from tqdm.auto import tqdm"
   ]
  },
  {
   "cell_type": "code",
   "execution_count": 19,
   "metadata": {
    "colab": {
     "base_uri": "https://localhost:8080/",
     "height": 66,
     "referenced_widgets": [
      "b97ef017240046678183555b0a07f304",
      "dc1f82ce7cde4c3a9e61922d65800229",
      "a77d673b16d14bc5b455c38e1f0cdb88",
      "3e15a9b760304b91983597e90ee0eb16",
      "e38e6278295e49c2b2c868d087af2e02",
      "0f1d9e4ce3e54e6a99e0d2dfe54cea60",
      "1357aaba81d944a8ab33f00fb995fe30",
      "20d93cc4451d46e6a89d692d1678838b"
     ]
    },
    "colab_type": "code",
    "id": "fLonIwNZwIyp",
    "outputId": "7f1ef267-d15c-4617-994e-d2e916432e34"
   },
   "outputs": [
    {
     "data": {
      "application/vnd.jupyter.widget-view+json": {
       "model_id": "4f1251a338364f93818566d7b081387b",
       "version_major": 2,
       "version_minor": 0
      },
      "text/plain": [
       "HBox(children=(FloatProgress(value=0.0, max=64039.0), HTML(value='')))"
      ]
     },
     "metadata": {},
     "output_type": "display_data"
    },
    {
     "name": "stdout",
     "output_type": "stream",
     "text": [
      "\n"
     ]
    }
   ],
   "source": [
    "tokenizing_texts = []  # без стоп-слова\n",
    "tokenizing_texts_st = []  # со стоп-словами\n",
    "for text in tqdm(df['text']):\n",
    "    with_st_w, without_st_w = get_tokens(text)\n",
    "    tokenizing_texts.append(with_st_w)\n",
    "    tokenizing_texts_st.append(without_st_w)"
   ]
  },
  {
   "cell_type": "code",
   "execution_count": 20,
   "metadata": {
    "colab": {},
    "colab_type": "code",
    "id": "t0_qX-ZVxIKW"
   },
   "outputs": [],
   "source": [
    "df[\"text_in_tokens\"] = tokenizing_texts\n",
    "df[\"text_in_tokens_no_sw\"] = tokenizing_texts_st"
   ]
  },
  {
   "cell_type": "markdown",
   "metadata": {
    "colab_type": "text",
    "id": "HVq8if4s8q_1"
   },
   "source": [
    "3. Посчитайте количество токенов в тексте (без стоп-слов). Найдите среднее этих значений как по всей выборке, так и внутри каждого класса. "
   ]
  },
  {
   "cell_type": "code",
   "execution_count": 29,
   "metadata": {},
   "outputs": [],
   "source": [
    "def del_punct(text):\n",
    "    \"\"\"\n",
    "    убираем пунктуацию для подсчета токенов без стоп-слов\n",
    "    \"\"\"\n",
    "    line = \"\".join(l for l in text if l not in (\n",
    "            '.', ',', '[', ']', '', '«', '»',\n",
    "            '/', '#',  '_', '%', '@', '^', '&', '*',\n",
    "            '?', '!', ':', ';', '—', '--', '<', '>', '\"', '(', ')'))\n",
    "    return line"
   ]
  },
  {
   "cell_type": "code",
   "execution_count": 30,
   "metadata": {},
   "outputs": [
    {
     "data": {
      "application/vnd.jupyter.widget-view+json": {
       "model_id": "504d770f13e74e95a6be47952e042c45",
       "version_major": 2,
       "version_minor": 0
      },
      "text/plain": [
       "HBox(children=(FloatProgress(value=0.0, max=64039.0), HTML(value='')))"
      ]
     },
     "metadata": {},
     "output_type": "display_data"
    },
    {
     "name": "stdout",
     "output_type": "stream",
     "text": [
      "\n"
     ]
    }
   ],
   "source": [
    "tokenizing_texts_2 = []\n",
    "for text in tqdm(df['text_in_tokens']):\n",
    "    tokenizing_texts_2.append(del_punct(text))"
   ]
  },
  {
   "cell_type": "code",
   "execution_count": 31,
   "metadata": {},
   "outputs": [],
   "source": [
    "df[\"tokens_no_punct\"] = tokenizing_texts_2"
   ]
  },
  {
   "cell_type": "code",
   "execution_count": 152,
   "metadata": {
    "colab": {},
    "colab_type": "code",
    "id": "rP8_BV3I-RPE"
   },
   "outputs": [],
   "source": [
    "# your code and output here\n",
    "\n",
    "num_rokens = [len(text.split()) for text in df[\"tokens_no_punct\"]]\n",
    "df['count_tokens'] = num_rokens"
   ]
  },
  {
   "cell_type": "code",
   "execution_count": 153,
   "metadata": {
    "colab": {
     "base_uri": "https://localhost:8080/",
     "height": 68
    },
    "colab_type": "code",
    "id": "qhk20TAtyx-l",
    "outputId": "6ad1d2cd-2ebf-4b46-8f91-1698da51f35a"
   },
   "outputs": [
    {
     "name": "stdout",
     "output_type": "stream",
     "text": [
      "Среднее знанение по всей выборке:  111.34461812333109\n",
      "Cреднее по классу 0:  151.34190062771307\n",
      "Cреднее по классу 1:  71.34358798176027\n"
     ]
    }
   ],
   "source": [
    "print('Среднее знанение по всей выборке: ', df['count_tokens'].mean())\n",
    "print('Cреднее по классу 0: ', df[df['label'] == 0]['count_tokens'].mean())\n",
    "print('Cреднее по классу 1: ', df[df['label'] == 1]['count_tokens'].mean())"
   ]
  },
  {
   "cell_type": "markdown",
   "metadata": {
    "colab_type": "text",
    "id": "HnSAyA3O2cKp"
   },
   "source": [
    "Тексты класса 1 в 2 раза короче текстов в классе 0"
   ]
  },
  {
   "cell_type": "markdown",
   "metadata": {
    "colab_type": "text",
    "id": "xXsyP9NHG-gO"
   },
   "source": [
    "4. Напишите функцию, которая переводит текст в последовательность лемм."
   ]
  },
  {
   "cell_type": "code",
   "execution_count": 34,
   "metadata": {
    "colab": {
     "base_uri": "https://localhost:8080/",
     "height": 341
    },
    "colab_type": "code",
    "id": "PwFuNvjM4Qbr",
    "outputId": "5ec47b11-9552-41c4-d30a-77860fb65448"
   },
   "outputs": [],
   "source": [
    "from pymorphy2 import MorphAnalyzer\n",
    "\n",
    "morph = MorphAnalyzer()"
   ]
  },
  {
   "cell_type": "code",
   "execution_count": 35,
   "metadata": {
    "colab": {},
    "colab_type": "code",
    "id": "n1o_Rh2iHDmH"
   },
   "outputs": [],
   "source": [
    "# your code and output here\n",
    "\n",
    "def get_lemmas(text):\n",
    "    \"\"\"\n",
    "    здесь можно брать токенизированные тексты без стоп-слов,\n",
    "    но по заданию не очень понятно, нужно брать \n",
    "    \"\"\"\n",
    "    new_l = ''\n",
    "    for word in text.split():\n",
    "        wrd = morph.parse(word)[0]\n",
    "        new_l += wrd.normal_form + ' '\n",
    "    return new_l"
   ]
  },
  {
   "cell_type": "code",
   "execution_count": 36,
   "metadata": {},
   "outputs": [
    {
     "data": {
      "application/vnd.jupyter.widget-view+json": {
       "model_id": "5ac78251f6a84b7b9a95e3a29bf41d25",
       "version_major": 2,
       "version_minor": 0
      },
      "text/plain": [
       "HBox(children=(FloatProgress(value=0.0, max=64039.0), HTML(value='')))"
      ]
     },
     "metadata": {},
     "output_type": "display_data"
    },
    {
     "name": "stdout",
     "output_type": "stream",
     "text": [
      "\n"
     ]
    }
   ],
   "source": [
    "lemmatized_texts = []\n",
    "for text in tqdm(df[\"text_in_tokens_no_sw\"]):\n",
    "    lemmatized_texts.append(get_lemmas(del_punct(text)))"
   ]
  },
  {
   "cell_type": "code",
   "execution_count": 37,
   "metadata": {},
   "outputs": [],
   "source": [
    "df[\"lemmatized_text\"] = lemmatized_texts"
   ]
  },
  {
   "cell_type": "markdown",
   "metadata": {
    "colab_type": "text",
    "id": "D5kyEWTZ98r3"
   },
   "source": [
    "5. Напишите функцию, которая переводит текст в последовательность частеречных тегов."
   ]
  },
  {
   "cell_type": "code",
   "execution_count": 38,
   "metadata": {
    "colab": {},
    "colab_type": "code",
    "id": "83EABAwH756M"
   },
   "outputs": [],
   "source": [
    "# your code and output here\n",
    "\n",
    "def pos_tags(text):\n",
    "    new_l = ''\n",
    "    for word in text.split():\n",
    "        wrd = morph.parse(word)[0]\n",
    "        tag = wrd.tag.POS\n",
    "        if not tag:\n",
    "            new_l += '-' + ' '\n",
    "        else:\n",
    "            new_l += tag + ' '\n",
    "    return new_l"
   ]
  },
  {
   "cell_type": "code",
   "execution_count": 39,
   "metadata": {},
   "outputs": [
    {
     "data": {
      "application/vnd.jupyter.widget-view+json": {
       "model_id": "85abda0afef748e58b06c54817298685",
       "version_major": 2,
       "version_minor": 0
      },
      "text/plain": [
       "HBox(children=(FloatProgress(value=0.0, max=64039.0), HTML(value='')))"
      ]
     },
     "metadata": {},
     "output_type": "display_data"
    },
    {
     "name": "stdout",
     "output_type": "stream",
     "text": [
      "\n"
     ]
    }
   ],
   "source": [
    "pos_texts = []\n",
    "for text in tqdm(df[\"text_in_tokens_no_sw\"]):\n",
    "    pos_texts.append(pos_tags(del_punct(text)))"
   ]
  },
  {
   "cell_type": "code",
   "execution_count": 40,
   "metadata": {},
   "outputs": [],
   "source": [
    "df[\"pos_tags\"] = pos_texts"
   ]
  },
  {
   "cell_type": "code",
   "execution_count": 154,
   "metadata": {},
   "outputs": [
    {
     "data": {
      "text/html": [
       "<div>\n",
       "<style scoped>\n",
       "    .dataframe tbody tr th:only-of-type {\n",
       "        vertical-align: middle;\n",
       "    }\n",
       "\n",
       "    .dataframe tbody tr th {\n",
       "        vertical-align: top;\n",
       "    }\n",
       "\n",
       "    .dataframe thead th {\n",
       "        text-align: right;\n",
       "    }\n",
       "</style>\n",
       "<table border=\"1\" class=\"dataframe\">\n",
       "  <thead>\n",
       "    <tr style=\"text-align: right;\">\n",
       "      <th></th>\n",
       "      <th>text</th>\n",
       "      <th>label</th>\n",
       "      <th>age</th>\n",
       "      <th>length</th>\n",
       "      <th>text_in_tokens</th>\n",
       "      <th>text_in_tokens_no_sw</th>\n",
       "      <th>tokens_no_punct</th>\n",
       "      <th>lemmatized_text</th>\n",
       "      <th>pos_tags</th>\n",
       "      <th>lemmatized_text_no_sw</th>\n",
       "      <th>count_tokens</th>\n",
       "    </tr>\n",
       "  </thead>\n",
       "  <tbody>\n",
       "    <tr>\n",
       "      <th>0</th>\n",
       "      <td>Когда-то я был добрым романтиком, который стре...</td>\n",
       "      <td>1</td>\n",
       "      <td>32</td>\n",
       "      <td>15.0</td>\n",
       "      <td>когда-то добрым романтиком , который стремился...</td>\n",
       "      <td>Когда-то я был добрым романтиком , который стр...</td>\n",
       "      <td>когда-то добрым романтиком  который стремился ...</td>\n",
       "      <td>когда-то я быть добрый романтик который стреми...</td>\n",
       "      <td>ADVB NPRO VERB ADJF NOUN ADJF VERB INFN ADJF N...</td>\n",
       "      <td>когда-то добрый романтик который стремиться по...</td>\n",
       "      <td>161</td>\n",
       "    </tr>\n",
       "    <tr>\n",
       "      <th>1</th>\n",
       "      <td>Здраствуйте! Я каждый день просыпаюсь с мыслью...</td>\n",
       "      <td>1</td>\n",
       "      <td>28</td>\n",
       "      <td>6.0</td>\n",
       "      <td>здраствуйте ! каждый день просыпаюсь мыслью жи...</td>\n",
       "      <td>Здраствуйте ! Я каждый день просыпаюсь с мысль...</td>\n",
       "      <td>здраствуйте  каждый день просыпаюсь мыслью жив...</td>\n",
       "      <td>здраствовать я каждый день просыпаться с мысль...</td>\n",
       "      <td>VERB NPRO ADJF NOUN VERB PREP NOUN ADVB NPRO V...</td>\n",
       "      <td>здраствовать каждый день просыпаться мысль жит...</td>\n",
       "      <td>64</td>\n",
       "    </tr>\n",
       "    <tr>\n",
       "      <th>2</th>\n",
       "      <td>У меня проблемы с девушкой. Каждую ссору я не ...</td>\n",
       "      <td>1</td>\n",
       "      <td>16</td>\n",
       "      <td>10.0</td>\n",
       "      <td>проблемы девушкой . каждую ссору могу перенест...</td>\n",
       "      <td>У меня проблемы с девушкой . Каждую ссору я не...</td>\n",
       "      <td>проблемы девушкой  каждую ссору могу перенести...</td>\n",
       "      <td>у я проблема с девушка каждый ссора я не мочь ...</td>\n",
       "      <td>PREP NPRO NOUN PREP NOUN ADJF NOUN NPRO PRCL V...</td>\n",
       "      <td>проблема девушка каждый ссора мочь перенести о...</td>\n",
       "      <td>43</td>\n",
       "    </tr>\n",
       "    <tr>\n",
       "      <th>3</th>\n",
       "      <td>Вся моя жизнь это один сплошной ад, в котором ...</td>\n",
       "      <td>1</td>\n",
       "      <td>32</td>\n",
       "      <td>5.0</td>\n",
       "      <td>вся жизнь это сплошной ад , котором горю посто...</td>\n",
       "      <td>Вся моя жизнь это один сплошной ад , в котором...</td>\n",
       "      <td>вся жизнь это сплошной ад  котором горю постоя...</td>\n",
       "      <td>весь мой жизнь это один сплошной ада в который...</td>\n",
       "      <td>ADJF ADJF NOUN PRCL ADJF ADJF NOUN PREP ADJF N...</td>\n",
       "      <td>весь жизнь это сплошной ада который горе посто...</td>\n",
       "      <td>25</td>\n",
       "    </tr>\n",
       "    <tr>\n",
       "      <th>4</th>\n",
       "      <td>Я хочу уснуть и не проснуться.каждый день одно...</td>\n",
       "      <td>1</td>\n",
       "      <td>14</td>\n",
       "      <td>18.0</td>\n",
       "      <td>хочу уснуть проснуться . каждый день одно . ка...</td>\n",
       "      <td>Я хочу уснуть и не проснуться . каждый день од...</td>\n",
       "      <td>хочу уснуть проснуться  каждый день одно  како...</td>\n",
       "      <td>я хотеть уснуть и не проснуться каждый день од...</td>\n",
       "      <td>NPRO VERB INFN CONJ PRCL INFN ADJF NOUN ADJF C...</td>\n",
       "      <td>хотеть уснуть проснуться каждый день один како...</td>\n",
       "      <td>199</td>\n",
       "    </tr>\n",
       "  </tbody>\n",
       "</table>\n",
       "</div>"
      ],
      "text/plain": [
       "                                                text  label  age  length  \\\n",
       "0  Когда-то я был добрым романтиком, который стре...      1   32    15.0   \n",
       "1  Здраствуйте! Я каждый день просыпаюсь с мыслью...      1   28     6.0   \n",
       "2  У меня проблемы с девушкой. Каждую ссору я не ...      1   16    10.0   \n",
       "3  Вся моя жизнь это один сплошной ад, в котором ...      1   32     5.0   \n",
       "4  Я хочу уснуть и не проснуться.каждый день одно...      1   14    18.0   \n",
       "\n",
       "                                      text_in_tokens  \\\n",
       "0  когда-то добрым романтиком , который стремился...   \n",
       "1  здраствуйте ! каждый день просыпаюсь мыслью жи...   \n",
       "2  проблемы девушкой . каждую ссору могу перенест...   \n",
       "3  вся жизнь это сплошной ад , котором горю посто...   \n",
       "4  хочу уснуть проснуться . каждый день одно . ка...   \n",
       "\n",
       "                                text_in_tokens_no_sw  \\\n",
       "0  Когда-то я был добрым романтиком , который стр...   \n",
       "1  Здраствуйте ! Я каждый день просыпаюсь с мысль...   \n",
       "2  У меня проблемы с девушкой . Каждую ссору я не...   \n",
       "3  Вся моя жизнь это один сплошной ад , в котором...   \n",
       "4  Я хочу уснуть и не проснуться . каждый день од...   \n",
       "\n",
       "                                     tokens_no_punct  \\\n",
       "0  когда-то добрым романтиком  который стремился ...   \n",
       "1  здраствуйте  каждый день просыпаюсь мыслью жив...   \n",
       "2  проблемы девушкой  каждую ссору могу перенести...   \n",
       "3  вся жизнь это сплошной ад  котором горю постоя...   \n",
       "4  хочу уснуть проснуться  каждый день одно  како...   \n",
       "\n",
       "                                     lemmatized_text  \\\n",
       "0  когда-то я быть добрый романтик который стреми...   \n",
       "1  здраствовать я каждый день просыпаться с мысль...   \n",
       "2  у я проблема с девушка каждый ссора я не мочь ...   \n",
       "3  весь мой жизнь это один сплошной ада в который...   \n",
       "4  я хотеть уснуть и не проснуться каждый день од...   \n",
       "\n",
       "                                            pos_tags  \\\n",
       "0  ADVB NPRO VERB ADJF NOUN ADJF VERB INFN ADJF N...   \n",
       "1  VERB NPRO ADJF NOUN VERB PREP NOUN ADVB NPRO V...   \n",
       "2  PREP NPRO NOUN PREP NOUN ADJF NOUN NPRO PRCL V...   \n",
       "3  ADJF ADJF NOUN PRCL ADJF ADJF NOUN PREP ADJF N...   \n",
       "4  NPRO VERB INFN CONJ PRCL INFN ADJF NOUN ADJF C...   \n",
       "\n",
       "                               lemmatized_text_no_sw  count_tokens  \n",
       "0  когда-то добрый романтик который стремиться по...           161  \n",
       "1  здраствовать каждый день просыпаться мысль жит...            64  \n",
       "2  проблема девушка каждый ссора мочь перенести о...            43  \n",
       "3  весь жизнь это сплошной ада который горе посто...            25  \n",
       "4  хотеть уснуть проснуться каждый день один како...           199  "
      ]
     },
     "execution_count": 154,
     "metadata": {},
     "output_type": "execute_result"
    }
   ],
   "source": [
    "df.head()"
   ]
  },
  {
   "cell_type": "markdown",
   "metadata": {
    "colab_type": "text",
    "id": "d7VAjC4VHSyi"
   },
   "source": [
    "6. Какие слова мы можем добавить в список стоп-слов? Приведите примеры и объясните, почему."
   ]
  },
  {
   "cell_type": "code",
   "execution_count": 42,
   "metadata": {
    "colab": {},
    "colab_type": "code",
    "id": "bElLevUU-x7m"
   },
   "outputs": [
    {
     "name": "stdout",
     "output_type": "stream",
     "text": [
      "['и', 'в', 'во', 'не', 'что', 'он', 'на', 'я', 'с', 'со', 'как', 'а', 'то', 'все', 'она', 'так', 'его', 'но', 'да', 'ты', 'к', 'у', 'же', 'вы', 'за', 'бы', 'по', 'только', 'ее', 'мне', 'было', 'вот', 'от', 'меня', 'еще', 'нет', 'о', 'из', 'ему', 'теперь', 'когда', 'даже', 'ну', 'вдруг', 'ли', 'если', 'уже', 'или', 'ни', 'быть', 'был', 'него', 'до', 'вас', 'нибудь', 'опять', 'уж', 'вам', 'ведь', 'там', 'потом', 'себя', 'ничего', 'ей', 'может', 'они', 'тут', 'где', 'есть', 'надо', 'ней', 'для', 'мы', 'тебя', 'их', 'чем', 'была', 'сам', 'чтоб', 'без', 'будто', 'чего', 'раз', 'тоже', 'себе', 'под', 'будет', 'ж', 'тогда', 'кто', 'этот', 'того', 'потому', 'этого', 'какой', 'совсем', 'ним', 'здесь', 'этом', 'один', 'почти', 'мой', 'тем', 'чтобы', 'нее', 'сейчас', 'были', 'куда', 'зачем', 'всех', 'никогда', 'можно', 'при', 'наконец', 'два', 'об', 'другой', 'хоть', 'после', 'над', 'больше', 'тот', 'через', 'эти', 'нас', 'про', 'всего', 'них', 'какая', 'много', 'разве', 'три', 'эту', 'моя', 'впрочем', 'хорошо', 'свою', 'этой', 'перед', 'иногда', 'лучше', 'чуть', 'том', 'нельзя', 'такой', 'им', 'более', 'всегда', 'конечно', 'всю', 'между']\n"
     ]
    }
   ],
   "source": [
    "# your code and output here\n",
    "print(stopwords.words(\"russian\"))"
   ]
  },
  {
   "cell_type": "markdown",
   "metadata": {},
   "source": [
    "Можно отнести к стоп-словам такие, которые не несут никакого смысла: пм, жо, отс (то, что обычно используют, когда пишут посты, например)  + разные сокращения типа \"тг\"\n",
    "\n",
    "Междометия: ох, ах\n",
    "\n",
    "Детерминативы: поссесивы типа \"твой\" (по аналогии с уже входящим \"мой\")\n",
    "\n",
    "Имена собственные: Андрей, Питер и т.д. (но тут нужно быть очень аккуратным)\n",
    "\n",
    "Так как все это не несет смысловой нагрузки для дальнейшей классификации\n",
    "\n",
    "Необнозначный пункт: так как это тексты, в которых есть всякие лишние данные типа смайликов, вероятно, они - то, что можно будет также считать стоп-словами (они, вероятно, могут создавать шум при препроцессинге, поэтому стоит их удалить, чтобы данные были максимально чистыми). В качестве примера - любой смайлик. Но тут нужно быть осоторожным, так как в некоторых случаях смайлики наоборот нужно учитывать, однако - как вариант, можно попробовать отнести их к стоп-словам. Для некоторых задач смайлики наоборот несут много смысловой нагрузки, поэтому этот пункт мне кажется неоднозначным: например, аргумент против этого - можем предположить, что грустные смайлики -> депрессивный текст."
   ]
  },
  {
   "cell_type": "markdown",
   "metadata": {
    "colab_type": "text",
    "id": "vcLlYOZfIWRX"
   },
   "source": [
    "### Часть 3: Визуализация (1 балл)"
   ]
  },
  {
   "cell_type": "markdown",
   "metadata": {
    "colab_type": "text",
    "id": "b9s_mHYIoOjg"
   },
   "source": [
    "1. Визуализируйте распределение количество предложений / текст.\n",
    "\n",
    "----\n",
    "\n",
    "тут будет много графиков"
   ]
  },
  {
   "cell_type": "code",
   "execution_count": 82,
   "metadata": {},
   "outputs": [],
   "source": [
    "import matplotlib.pyplot as plt\n",
    "import seaborn as sns\n",
    "from matplotlib import style\n",
    "from collections import Counter\n",
    "\n",
    "\n",
    "style.use('seaborn')"
   ]
  },
  {
   "cell_type": "code",
   "execution_count": 155,
   "metadata": {},
   "outputs": [],
   "source": [
    "df['length'] = df['length'].fillna(0)\n",
    "\n",
    "df['length'] = df['length'].astype(int)"
   ]
  },
  {
   "cell_type": "code",
   "execution_count": 156,
   "metadata": {},
   "outputs": [
    {
     "data": {
      "text/plain": [
       "<matplotlib.axes._subplots.AxesSubplot at 0x7fa86aecc6d8>"
      ]
     },
     "execution_count": 156,
     "metadata": {},
     "output_type": "execute_result"
    },
    {
     "data": {
      "image/png": "[encoded data removed]",
      "text/plain": [
       "<Figure size 576x396 with 1 Axes>"
      ]
     },
     "metadata": {},
     "output_type": "display_data"
    }
   ],
   "source": [
    "# распределения по датасету для наглядности\n",
    "\n",
    "df['length'].plot()"
   ]
  },
  {
   "cell_type": "code",
   "execution_count": 171,
   "metadata": {},
   "outputs": [
    {
     "data": {
      "text/plain": [
       "<matplotlib.axes._subplots.AxesSubplot at 0x7fa877dff048>"
      ]
     },
     "execution_count": 171,
     "metadata": {},
     "output_type": "execute_result"
    },
    {
     "data": {
      "image/png": "[encoded data removed]",
      "text/plain": [
       "<Figure size 576x396 with 1 Axes>"
      ]
     },
     "metadata": {},
     "output_type": "display_data"
    }
   ],
   "source": [
    "# не очень красивая гистограмма по длине предложений\n",
    "\n",
    "df['length'].plot.hist(logy=True)"
   ]
  },
  {
   "cell_type": "code",
   "execution_count": 157,
   "metadata": {},
   "outputs": [
    {
     "name": "stderr",
     "output_type": "stream",
     "text": [
      "/Users/macbook/anaconda3/lib/python3.6/site-packages/seaborn/distributions.py:2551: FutureWarning: `distplot` is a deprecated function and will be removed in a future version. Please adapt your code to use either `displot` (a figure-level function with similar flexibility) or `histplot` (an axes-level function for histograms).\n",
      "  warnings.warn(msg, FutureWarning)\n"
     ]
    },
    {
     "data": {
      "image/png": "[encoded data removed]",
      "text/plain": [
       "<Figure size 1800x1080 with 1 Axes>"
      ]
     },
     "metadata": {},
     "output_type": "display_data"
    }
   ],
   "source": [
    "# итоговая функция: количество предложений / текст\n",
    "\n",
    "fig = plt.subplots(figsize=(25, 15))\n",
    "sns_plot = sns.distplot(df['length'])\n",
    "fig = sns_plot.get_figure()"
   ]
  },
  {
   "cell_type": "code",
   "execution_count": 158,
   "metadata": {},
   "outputs": [
    {
     "data": {
      "image/png": "[encoded data removed]",
      "text/plain": [
       "<Figure size 1800x1080 with 1 Axes>"
      ]
     },
     "metadata": {},
     "output_type": "display_data"
    }
   ],
   "source": [
    "# функция с количественным распределением\n",
    "\n",
    "fig = plt.subplots(figsize=(25, 15))\n",
    "sns_plot = sns.histplot(df['length'])\n",
    "fig = sns_plot.get_figure()"
   ]
  },
  {
   "cell_type": "markdown",
   "metadata": {
    "colab_type": "text",
    "id": "PzPsrj36KJ7n"
   },
   "source": [
    "2. Визуализируйте распределение количество-предложений / текст внутри каждого класса."
   ]
  },
  {
   "cell_type": "code",
   "execution_count": 164,
   "metadata": {
    "colab": {},
    "colab_type": "code",
    "id": "CUgLhfWoIvKa"
   },
   "outputs": [],
   "source": [
    "# your code and output here\n",
    "\n",
    "def plot_len_dist(df, name):\n",
    "    fig, axs = plt.subplots(1, 3, figsize=(25, 10))\n",
    "    for i, data in enumerate(df):\n",
    "        sns.distplot(data['length'], bins=20, color='red', ax=axs[i])\n",
    "        axs[i].axvline((data['length']).mean(), \n",
    "                   color='k', \n",
    "                   linestyle='dashed', \n",
    "                   linewidth=1, \n",
    "                   label='среднее значение')\n",
    "        axs[i].legend()\n",
    "    axs[0].set(title=\"sent_len distribution in {} class 0\".format(name))\n",
    "    axs[1].set(title=\"sent_len distribution in {} class 1\".format(name))\n",
    "    axs[2].set(title=\"sent_len distribution in {} all dataset\".format(name))\n",
    "    plt.show()\n",
    "    fig.tight_layout()"
   ]
  },
  {
   "cell_type": "code",
   "execution_count": 165,
   "metadata": {},
   "outputs": [
    {
     "name": "stderr",
     "output_type": "stream",
     "text": [
      "/Users/macbook/anaconda3/lib/python3.6/site-packages/seaborn/distributions.py:2551: FutureWarning: `distplot` is a deprecated function and will be removed in a future version. Please adapt your code to use either `displot` (a figure-level function with similar flexibility) or `histplot` (an axes-level function for histograms).\n",
      "  warnings.warn(msg, FutureWarning)\n",
      "/Users/macbook/anaconda3/lib/python3.6/site-packages/seaborn/distributions.py:2551: FutureWarning: `distplot` is a deprecated function and will be removed in a future version. Please adapt your code to use either `displot` (a figure-level function with similar flexibility) or `histplot` (an axes-level function for histograms).\n",
      "  warnings.warn(msg, FutureWarning)\n",
      "/Users/macbook/anaconda3/lib/python3.6/site-packages/seaborn/distributions.py:2551: FutureWarning: `distplot` is a deprecated function and will be removed in a future version. Please adapt your code to use either `displot` (a figure-level function with similar flexibility) or `histplot` (an axes-level function for histograms).\n",
      "  warnings.warn(msg, FutureWarning)\n"
     ]
    },
    {
     "data": {
      "image/png": "[encoded data removed]",
      "text/plain": [
       "<Figure size 1800x720 with 3 Axes>"
      ]
     },
     "metadata": {},
     "output_type": "display_data"
    }
   ],
   "source": [
    "plot_len_dist((df[df['label'] == 0], df[df['label'] == 1], df), 'depression')"
   ]
  },
  {
   "cell_type": "markdown",
   "metadata": {
    "colab_type": "text",
    "id": "5zGMiWUBQKRi"
   },
   "source": [
    "3. Верно ли, что количество предложений в тексте коррелирует с возрастом автора в подвыборке от 16 до 32 лет включительно? Если да, какая это корреляция – положительная или отрицательная? Визуализируйте матрицу корреляции."
   ]
  },
  {
   "cell_type": "code",
   "execution_count": 123,
   "metadata": {
    "colab": {},
    "colab_type": "code",
    "id": "qAeNmcoqQi5x"
   },
   "outputs": [],
   "source": [
    "# your code and output here\n",
    "import numpy as np\n",
    "\n",
    "\n",
    "data = df[(df[\"age\"] >= 16) & (df[\"age\"] <= 32)]"
   ]
  },
  {
   "cell_type": "code",
   "execution_count": 124,
   "metadata": {},
   "outputs": [],
   "source": [
    "data = data[['age', 'length']]"
   ]
  },
  {
   "cell_type": "code",
   "execution_count": 126,
   "metadata": {},
   "outputs": [],
   "source": [
    "corr = data.corr()"
   ]
  },
  {
   "cell_type": "code",
   "execution_count": 127,
   "metadata": {},
   "outputs": [
    {
     "data": {
      "text/html": [
       "<div>\n",
       "<style scoped>\n",
       "    .dataframe tbody tr th:only-of-type {\n",
       "        vertical-align: middle;\n",
       "    }\n",
       "\n",
       "    .dataframe tbody tr th {\n",
       "        vertical-align: top;\n",
       "    }\n",
       "\n",
       "    .dataframe thead th {\n",
       "        text-align: right;\n",
       "    }\n",
       "</style>\n",
       "<table border=\"1\" class=\"dataframe\">\n",
       "  <thead>\n",
       "    <tr style=\"text-align: right;\">\n",
       "      <th></th>\n",
       "      <th>age</th>\n",
       "      <th>length</th>\n",
       "    </tr>\n",
       "  </thead>\n",
       "  <tbody>\n",
       "    <tr>\n",
       "      <th>age</th>\n",
       "      <td>1.000000</td>\n",
       "      <td>0.039831</td>\n",
       "    </tr>\n",
       "    <tr>\n",
       "      <th>length</th>\n",
       "      <td>0.039831</td>\n",
       "      <td>1.000000</td>\n",
       "    </tr>\n",
       "  </tbody>\n",
       "</table>\n",
       "</div>"
      ],
      "text/plain": [
       "             age    length\n",
       "age     1.000000  0.039831\n",
       "length  0.039831  1.000000"
      ]
     },
     "execution_count": 127,
     "metadata": {},
     "output_type": "execute_result"
    }
   ],
   "source": [
    "corr"
   ]
  },
  {
   "cell_type": "code",
   "execution_count": 128,
   "metadata": {},
   "outputs": [
    {
     "data": {
      "image/png": "[encoded data removed]",
      "text/plain": [
       "<Figure size 720x360 with 2 Axes>"
      ]
     },
     "metadata": {},
     "output_type": "display_data"
    }
   ],
   "source": [
    "# корреляции нет, так как значения 0.04 --> близки к нулю\n",
    "\n",
    "\n",
    "fig, ax = plt.subplots(figsize=(10, 5))\n",
    "\n",
    "sns.heatmap(\n",
    "    data=data.corr(), \n",
    "    annot=True,\n",
    "    ax=ax\n",
    ")\n",
    "\n",
    "plt.title(\n",
    "    \"Корреляция между количеством предложений в тексте и возрастом\")\n",
    "plt.show()"
   ]
  },
  {
   "cell_type": "markdown",
   "metadata": {
    "colab_type": "text",
    "id": "nBpo_1O5Ld7H"
   },
   "source": [
    "### Часть 4: Извлечение текстовых признаков (4 балла)"
   ]
  },
  {
   "cell_type": "markdown",
   "metadata": {
    "colab_type": "text",
    "id": "oqZUzenfL2sF"
   },
   "source": [
    "1. Самостоятельно реализуйте функцию для получения посимвольных н-грамм (без использования библиотек)."
   ]
  },
  {
   "cell_type": "code",
   "execution_count": 53,
   "metadata": {
    "colab": {},
    "colab_type": "code",
    "id": "UOOp61e1MCU-"
   },
   "outputs": [
    {
     "data": {
      "text/plain": [
       "['уст', 'ста', 'тав', 'авш', 'вша', 'шая', 'ая ', 'я м', ' ма', 'мам']"
      ]
     },
     "execution_count": 53,
     "metadata": {},
     "output_type": "execute_result"
    }
   ],
   "source": [
    "# your code and output here\n",
    "\n",
    "def char_ngrams(sentence, n):\n",
    "    grams = []\n",
    "    sent = sentence\n",
    "    \n",
    "    for i in range(len(sent)):\n",
    "        new = [sent[i:i+n]]\n",
    "        for el in new:\n",
    "            if len(el) == n:\n",
    "                 grams.append(el)\n",
    "\n",
    "    return grams\n",
    "\n",
    "text = \"уставшая мама мыла грязную раму\"\n",
    "char_ngrams(text, n=3)[:10]"
   ]
  },
  {
   "cell_type": "code",
   "execution_count": 492,
   "metadata": {
    "colab": {
     "base_uri": "https://localhost:8080/",
     "height": 34
    },
    "colab_type": "code",
    "id": "LctAR2cEMV0s",
    "outputId": "583c32a5-4efd-4686-97e9-b266350c0af5"
   },
   "outputs": [
    {
     "data": {
      "text/plain": [
       "['уст', 'ста', 'тав', 'авш', 'вша', 'шая', 'ая ', 'я м', ' ма', 'мам']"
      ]
     },
     "execution_count": 492,
     "metadata": {},
     "output_type": "execute_result"
    }
   ],
   "source": [
    "# пример работы функции\n",
    "\n",
    "text = \"уставшая мама мыла грязную раму\"\n",
    "\n",
    "char_ngrams(text, n=3)[:10]"
   ]
  },
  {
   "cell_type": "markdown",
   "metadata": {
    "colab_type": "text",
    "id": "CnPgflCeNsZA"
   },
   "source": [
    "2. Самостоятельно реализуйте функцию для получения пословных н-грамм (без использования библиотек)."
   ]
  },
  {
   "cell_type": "code",
   "execution_count": 54,
   "metadata": {
    "colab": {},
    "colab_type": "code",
    "id": "fX_6RyMFOGL2"
   },
   "outputs": [
    {
     "data": {
      "text/plain": [
       "[['уставшая', 'мама', 'мыла'],\n",
       " ['мама', 'мыла', 'грязную'],\n",
       " ['мыла', 'грязную', 'раму']]"
      ]
     },
     "execution_count": 54,
     "metadata": {},
     "output_type": "execute_result"
    }
   ],
   "source": [
    "# your code and output here\n",
    "\n",
    "def word_ngrams(sentence, n):\n",
    "    grams = []\n",
    "    sent = sentence.split()\n",
    "    for i in range(n):\n",
    "        new = [sent[i:i+n]]\n",
    "        for el in new:\n",
    "            if len(el) == n:\n",
    "                 grams.append(el)\n",
    "\n",
    "    return grams\n",
    "\n",
    "text = \"уставшая мама мыла грязную раму\"\n",
    "word_ngrams(text, n=3)"
   ]
  },
  {
   "cell_type": "code",
   "execution_count": 55,
   "metadata": {},
   "outputs": [
    {
     "data": {
      "text/plain": [
       "[['уставшая', 'мама', 'мыла', 'грязную'], ['мама', 'мыла', 'грязную', 'раму']]"
      ]
     },
     "execution_count": 55,
     "metadata": {},
     "output_type": "execute_result"
    }
   ],
   "source": [
    "word_ngrams(text, n=4)"
   ]
  },
  {
   "cell_type": "code",
   "execution_count": null,
   "metadata": {
    "colab": {
     "base_uri": "https://localhost:8080/",
     "height": 70
    },
    "colab_type": "code",
    "id": "7b-XHdadOVm5",
    "outputId": "ff2948c6-a5f4-4288-d018-f14b8a8b7666"
   },
   "outputs": [
    {
     "data": {
      "text/plain": [
       "[['уставшая', 'мама', 'мыла'],\n",
       " ['мама', 'мыла', 'грязную'],\n",
       " ['мыла', 'грязную', 'раму']]"
      ]
     },
     "execution_count": 90,
     "metadata": {
      "tags": []
     },
     "output_type": "execute_result"
    }
   ],
   "source": [
    "# пример работы функции\n",
    "\n",
    "word_ngrams(text, n=3)"
   ]
  },
  {
   "cell_type": "code",
   "execution_count": null,
   "metadata": {
    "colab": {
     "base_uri": "https://localhost:8080/",
     "height": 34
    },
    "colab_type": "code",
    "id": "anLUGeXROekT",
    "outputId": "ed3a30af-d19e-48c5-abe6-4605ef6dcca6"
   },
   "outputs": [
    {
     "data": {
      "text/plain": [
       "[['уставшая', 'мама', 'мыла', 'грязную'], ['мама', 'мыла', 'грязную', 'раму']]"
      ]
     },
     "execution_count": 91,
     "metadata": {
      "tags": []
     },
     "output_type": "execute_result"
    }
   ],
   "source": [
    "word_ngrams(text, n=4)"
   ]
  },
  {
   "cell_type": "markdown",
   "metadata": {
    "colab_type": "text",
    "id": "zU4PJTZVOvcQ"
   },
   "source": [
    "3. Самостоятельно реализуйте функцию для получения н-грамм лемм (без использования библиотек)."
   ]
  },
  {
   "cell_type": "code",
   "execution_count": 56,
   "metadata": {
    "colab": {},
    "colab_type": "code",
    "id": "dgWG3NdLO0JF"
   },
   "outputs": [
    {
     "data": {
      "text/plain": [
       "[['устать', 'мама', 'мыло'],\n",
       " ['мама', 'мыло', 'грязный'],\n",
       " ['мыло', 'грязный', 'рам']]"
      ]
     },
     "execution_count": 56,
     "metadata": {},
     "output_type": "execute_result"
    }
   ],
   "source": [
    "# your code and output here\n",
    "\n",
    "def lemma_ngrams(text, n):\n",
    "    new_text = get_lemmas(text)\n",
    "    final = word_ngrams(new_text, n)\n",
    "    return final\n",
    "    \n",
    "lemma_ngrams(text, n=3)"
   ]
  },
  {
   "cell_type": "code",
   "execution_count": 57,
   "metadata": {},
   "outputs": [
    {
     "data": {
      "text/plain": [
       "[['устать', 'мама', 'мыло', 'грязный'], ['мама', 'мыло', 'грязный', 'рам']]"
      ]
     },
     "execution_count": 57,
     "metadata": {},
     "output_type": "execute_result"
    }
   ],
   "source": [
    "lemma_ngrams(text, n=4)"
   ]
  },
  {
   "cell_type": "code",
   "execution_count": null,
   "metadata": {
    "colab": {
     "base_uri": "https://localhost:8080/",
     "height": 70
    },
    "colab_type": "code",
    "id": "BfER14VDO8I3",
    "outputId": "97d6a053-3376-47e2-9489-ca9fd612140b"
   },
   "outputs": [
    {
     "data": {
      "text/plain": [
       "[['устать', 'мама', 'мыло'],\n",
       " ['мама', 'мыло', 'грязный'],\n",
       " ['мыло', 'грязный', 'рам']]"
      ]
     },
     "execution_count": 95,
     "metadata": {
      "tags": []
     },
     "output_type": "execute_result"
    }
   ],
   "source": [
    "# пример работы функции\n",
    "\n",
    "lemma_ngrams(text, n=3)"
   ]
  },
  {
   "cell_type": "code",
   "execution_count": null,
   "metadata": {
    "colab": {
     "base_uri": "https://localhost:8080/",
     "height": 52
    },
    "colab_type": "code",
    "id": "k1XmkQ_rO_p1",
    "outputId": "99a26cb6-ca99-427c-ddc4-c901e3f184a1"
   },
   "outputs": [
    {
     "data": {
      "text/plain": [
       "[['устать', 'мама', 'мыло', 'грязный'],\n",
       " ['мама', 'мыло', 'грязный', 'рам']]"
      ]
     },
     "execution_count": 96,
     "metadata": {
      "tags": []
     },
     "output_type": "execute_result"
    }
   ],
   "source": [
    "lemma_ngrams(text, n=4)"
   ]
  },
  {
   "cell_type": "markdown",
   "metadata": {
    "colab_type": "text",
    "id": "LHUo6LdLOblj"
   },
   "source": [
    "4. Самостоятельно реализуйте функцию для получения н-грамм частеречных тегов (без использования библиотек)."
   ]
  },
  {
   "cell_type": "code",
   "execution_count": 58,
   "metadata": {
    "colab": {},
    "colab_type": "code",
    "id": "YlPDRUCcOoCX"
   },
   "outputs": [
    {
     "data": {
      "text/plain": [
       "[['PRTF', 'NOUN', 'NOUN'], ['NOUN', 'NOUN', 'ADJF'], ['NOUN', 'ADJF', 'NOUN']]"
      ]
     },
     "execution_count": 58,
     "metadata": {},
     "output_type": "execute_result"
    }
   ],
   "source": [
    "# your code and output here\n",
    "\n",
    "def pos_ngrams(text, n):\n",
    "    new_text = pos_tags(text)\n",
    "    final = word_ngrams(new_text, n)\n",
    "    return final\n",
    "    \n",
    "pos_ngrams(text, n=3)"
   ]
  },
  {
   "cell_type": "code",
   "execution_count": 59,
   "metadata": {},
   "outputs": [
    {
     "data": {
      "text/plain": [
       "[['PRTF', 'NOUN', 'NOUN', 'ADJF'], ['NOUN', 'NOUN', 'ADJF', 'NOUN']]"
      ]
     },
     "execution_count": 59,
     "metadata": {},
     "output_type": "execute_result"
    }
   ],
   "source": [
    "pos_ngrams(text, n=4)"
   ]
  },
  {
   "cell_type": "code",
   "execution_count": null,
   "metadata": {
    "colab": {
     "base_uri": "https://localhost:8080/",
     "height": 34
    },
    "colab_type": "code",
    "id": "a4kQmEqiPHPv",
    "outputId": "ede469bd-8410-4c03-f361-42887601fc9f"
   },
   "outputs": [
    {
     "data": {
      "text/plain": [
       "[['PRTF', 'NOUN', 'NOUN'], ['NOUN', 'NOUN', 'ADJF'], ['NOUN', 'ADJF', 'NOUN']]"
      ]
     },
     "execution_count": 99,
     "metadata": {
      "tags": []
     },
     "output_type": "execute_result"
    }
   ],
   "source": [
    "# пример работы функции\n",
    "\n",
    "pos_ngrams(text, n=3)"
   ]
  },
  {
   "cell_type": "code",
   "execution_count": null,
   "metadata": {
    "colab": {
     "base_uri": "https://localhost:8080/",
     "height": 34
    },
    "colab_type": "code",
    "id": "iBh5fRbOPKsn",
    "outputId": "e4fdb66d-2f6e-4558-9072-7536adea29b2"
   },
   "outputs": [
    {
     "data": {
      "text/plain": [
       "[['PRTF', 'NOUN', 'NOUN', 'ADJF'], ['NOUN', 'NOUN', 'ADJF', 'NOUN']]"
      ]
     },
     "execution_count": 100,
     "metadata": {
      "tags": []
     },
     "output_type": "execute_result"
    }
   ],
   "source": [
    "pos_ngrams(text, n=4)"
   ]
  },
  {
   "cell_type": "markdown",
   "metadata": {
    "colab_type": "text",
    "id": "ZnUBQ6hLPNb3"
   },
   "source": [
    "5. Самостоятельно реализуйте функцию для получения частотного словаря частеречных тегов по коллекции документов."
   ]
  },
  {
   "cell_type": "code",
   "execution_count": 112,
   "metadata": {
    "colab": {},
    "colab_type": "code",
    "id": "P69DZahVPctr"
   },
   "outputs": [
    {
     "data": {
      "application/vnd.jupyter.widget-view+json": {
       "model_id": "c77a38556e644a02b225bfbbab2a3f6f",
       "version_major": 2,
       "version_minor": 0
      },
      "text/plain": [
       "HBox(children=(FloatProgress(value=0.0, max=4.0), HTML(value='')))"
      ]
     },
     "metadata": {},
     "output_type": "display_data"
    },
    {
     "name": "stdout",
     "output_type": "stream",
     "text": [
      "\n"
     ]
    },
    {
     "data": {
      "text/plain": [
       "{'NOUN': 7, 'PRTF': 1, 'ADJF': 2, 'VERB': 1}"
      ]
     },
     "execution_count": 112,
     "metadata": {},
     "output_type": "execute_result"
    }
   ],
   "source": [
    "# your code and output here\n",
    "\n",
    "def build_pos_dict(corpus):\n",
    "    dct = {}\n",
    "    for st in tqdm(corpus):\n",
    "        for w in st.split():\n",
    "            wrd = morph.parse(w)[0]\n",
    "            tag = wrd.tag.POS\n",
    "            new_tag = ''\n",
    "            if not tag:\n",
    "                new_tag = '-'\n",
    "            else:\n",
    "                new_tag = tag\n",
    "            if new_tag not in dct:\n",
    "                dct[new_tag] = 1\n",
    "            else:\n",
    "                dct[new_tag] += 1\n",
    "    return dct\n",
    "\n",
    "\n",
    "corpus = [\n",
    "    \"мама мыла уставшую раму\",\n",
    "    \"высшая школа экономики\",\n",
    "    \"компьютерная лингвистика\",\n",
    "    \"осень наступила\"\n",
    "]\n",
    "\n",
    "\n",
    "build_pos_dict(corpus)"
   ]
  },
  {
   "cell_type": "code",
   "execution_count": 113,
   "metadata": {},
   "outputs": [
    {
     "data": {
      "application/vnd.jupyter.widget-view+json": {
       "model_id": "d1605e48c2b94119bd3d613b93408970",
       "version_major": 2,
       "version_minor": 0
      },
      "text/plain": [
       "HBox(children=(FloatProgress(value=0.0, max=64039.0), HTML(value='')))"
      ]
     },
     "metadata": {},
     "output_type": "display_data"
    },
    {
     "name": "stdout",
     "output_type": "stream",
     "text": [
      "\n"
     ]
    },
    {
     "data": {
      "text/plain": [
       "{'ADVB': 272435,\n",
       " 'ADJF': 1076376,\n",
       " 'NOUN': 3232956,\n",
       " 'VERB': 905858,\n",
       " 'INFN': 264321,\n",
       " 'CONJ': 52801,\n",
       " 'PRCL': 83438,\n",
       " '-': 888165,\n",
       " 'NPRO': 59623,\n",
       " 'GRND': 21503,\n",
       " 'ADJS': 67705,\n",
       " 'COMP': 21670,\n",
       " 'PREP': 35851,\n",
       " 'PRED': 12441,\n",
       " 'INTJ': 6395,\n",
       " 'PRTF': 59592,\n",
       " 'PRTS': 50101,\n",
       " 'NUMR': 19167}"
      ]
     },
     "execution_count": 113,
     "metadata": {},
     "output_type": "execute_result"
    }
   ],
   "source": [
    "build_pos_dict(df['tokens_no_punct'])"
   ]
  },
  {
   "cell_type": "code",
   "execution_count": null,
   "metadata": {
    "colab": {
     "base_uri": "https://localhost:8080/",
     "height": 34
    },
    "colab_type": "code",
    "id": "7ZLFo264Pa4b",
    "outputId": "e43a31d5-f4ec-4468-8ad2-c892cfa4c662"
   },
   "outputs": [
    {
     "data": {
      "text/plain": [
       "{'ADJF': 2, 'NOUN': 7, 'PRTF': 1, 'VERB': 1}"
      ]
     },
     "execution_count": 106,
     "metadata": {
      "tags": []
     },
     "output_type": "execute_result"
    }
   ],
   "source": [
    "# пример работы функции\n",
    "\n",
    "corpus = [\n",
    "    \"мама мыла уставшую раму\",\n",
    "    \"высшая школа экономики\",\n",
    "    \"компьютерная лингвистика\",\n",
    "    \"осень наступила\"\n",
    "]\n",
    "\n",
    "build_pos_dict(corpus)"
   ]
  },
  {
   "cell_type": "markdown",
   "metadata": {
    "colab_type": "text",
    "id": "yb_mcJ8sSr3-"
   },
   "source": [
    "6. Постройте частотный словарь лемм по текстам внутри каждого класса. Найдите топ-15 лемм для текстов каждого класса. Есть ли между этими списками пересечение? Если да, сколько лемм пересекается?"
   ]
  },
  {
   "cell_type": "code",
   "execution_count": 61,
   "metadata": {},
   "outputs": [
    {
     "data": {
      "application/vnd.jupyter.widget-view+json": {
       "model_id": "7922c7d0f5ff400d89f7c0006ba9dd6e",
       "version_major": 2,
       "version_minor": 0
      },
      "text/plain": [
       "HBox(children=(FloatProgress(value=0.0, max=64039.0), HTML(value='')))"
      ]
     },
     "metadata": {},
     "output_type": "display_data"
    },
    {
     "name": "stdout",
     "output_type": "stream",
     "text": [
      "\n"
     ]
    }
   ],
   "source": [
    "lemmatized_texts_no_sw = []\n",
    "\n",
    "for text in tqdm(df[\"tokens_no_punct\"]):\n",
    "    lemmatized_texts_no_sw.append(get_lemmas(del_punct(text)))"
   ]
  },
  {
   "cell_type": "code",
   "execution_count": 62,
   "metadata": {},
   "outputs": [],
   "source": [
    "df[\"lemmatized_text_no_sw\"] = lemmatized_texts_no_sw"
   ]
  },
  {
   "cell_type": "code",
   "execution_count": 163,
   "metadata": {},
   "outputs": [
    {
     "data": {
      "text/html": [
       "<div>\n",
       "<style scoped>\n",
       "    .dataframe tbody tr th:only-of-type {\n",
       "        vertical-align: middle;\n",
       "    }\n",
       "\n",
       "    .dataframe tbody tr th {\n",
       "        vertical-align: top;\n",
       "    }\n",
       "\n",
       "    .dataframe thead th {\n",
       "        text-align: right;\n",
       "    }\n",
       "</style>\n",
       "<table border=\"1\" class=\"dataframe\">\n",
       "  <thead>\n",
       "    <tr style=\"text-align: right;\">\n",
       "      <th></th>\n",
       "      <th>text</th>\n",
       "      <th>label</th>\n",
       "      <th>age</th>\n",
       "      <th>length</th>\n",
       "      <th>text_in_tokens</th>\n",
       "      <th>text_in_tokens_no_sw</th>\n",
       "      <th>tokens_no_punct</th>\n",
       "      <th>lemmatized_text</th>\n",
       "      <th>pos_tags</th>\n",
       "      <th>lemmatized_text_no_sw</th>\n",
       "      <th>count_tokens</th>\n",
       "    </tr>\n",
       "  </thead>\n",
       "  <tbody>\n",
       "    <tr>\n",
       "      <th>0</th>\n",
       "      <td>Когда-то я был добрым романтиком, который стре...</td>\n",
       "      <td>1</td>\n",
       "      <td>32</td>\n",
       "      <td>15</td>\n",
       "      <td>когда-то добрым романтиком , который стремился...</td>\n",
       "      <td>Когда-то я был добрым романтиком , который стр...</td>\n",
       "      <td>когда-то добрым романтиком  который стремился ...</td>\n",
       "      <td>когда-то я быть добрый романтик который стреми...</td>\n",
       "      <td>ADVB NPRO VERB ADJF NOUN ADJF VERB INFN ADJF N...</td>\n",
       "      <td>когда-то добрый романтик который стремиться по...</td>\n",
       "      <td>161</td>\n",
       "    </tr>\n",
       "    <tr>\n",
       "      <th>1</th>\n",
       "      <td>Здраствуйте! Я каждый день просыпаюсь с мыслью...</td>\n",
       "      <td>1</td>\n",
       "      <td>28</td>\n",
       "      <td>6</td>\n",
       "      <td>здраствуйте ! каждый день просыпаюсь мыслью жи...</td>\n",
       "      <td>Здраствуйте ! Я каждый день просыпаюсь с мысль...</td>\n",
       "      <td>здраствуйте  каждый день просыпаюсь мыслью жив...</td>\n",
       "      <td>здраствовать я каждый день просыпаться с мысль...</td>\n",
       "      <td>VERB NPRO ADJF NOUN VERB PREP NOUN ADVB NPRO V...</td>\n",
       "      <td>здраствовать каждый день просыпаться мысль жит...</td>\n",
       "      <td>64</td>\n",
       "    </tr>\n",
       "    <tr>\n",
       "      <th>2</th>\n",
       "      <td>У меня проблемы с девушкой. Каждую ссору я не ...</td>\n",
       "      <td>1</td>\n",
       "      <td>16</td>\n",
       "      <td>10</td>\n",
       "      <td>проблемы девушкой . каждую ссору могу перенест...</td>\n",
       "      <td>У меня проблемы с девушкой . Каждую ссору я не...</td>\n",
       "      <td>проблемы девушкой  каждую ссору могу перенести...</td>\n",
       "      <td>у я проблема с девушка каждый ссора я не мочь ...</td>\n",
       "      <td>PREP NPRO NOUN PREP NOUN ADJF NOUN NPRO PRCL V...</td>\n",
       "      <td>проблема девушка каждый ссора мочь перенести о...</td>\n",
       "      <td>43</td>\n",
       "    </tr>\n",
       "    <tr>\n",
       "      <th>3</th>\n",
       "      <td>Вся моя жизнь это один сплошной ад, в котором ...</td>\n",
       "      <td>1</td>\n",
       "      <td>32</td>\n",
       "      <td>5</td>\n",
       "      <td>вся жизнь это сплошной ад , котором горю посто...</td>\n",
       "      <td>Вся моя жизнь это один сплошной ад , в котором...</td>\n",
       "      <td>вся жизнь это сплошной ад  котором горю постоя...</td>\n",
       "      <td>весь мой жизнь это один сплошной ада в который...</td>\n",
       "      <td>ADJF ADJF NOUN PRCL ADJF ADJF NOUN PREP ADJF N...</td>\n",
       "      <td>весь жизнь это сплошной ада который горе посто...</td>\n",
       "      <td>25</td>\n",
       "    </tr>\n",
       "    <tr>\n",
       "      <th>4</th>\n",
       "      <td>Я хочу уснуть и не проснуться.каждый день одно...</td>\n",
       "      <td>1</td>\n",
       "      <td>14</td>\n",
       "      <td>18</td>\n",
       "      <td>хочу уснуть проснуться . каждый день одно . ка...</td>\n",
       "      <td>Я хочу уснуть и не проснуться . каждый день од...</td>\n",
       "      <td>хочу уснуть проснуться  каждый день одно  како...</td>\n",
       "      <td>я хотеть уснуть и не проснуться каждый день од...</td>\n",
       "      <td>NPRO VERB INFN CONJ PRCL INFN ADJF NOUN ADJF C...</td>\n",
       "      <td>хотеть уснуть проснуться каждый день один како...</td>\n",
       "      <td>199</td>\n",
       "    </tr>\n",
       "  </tbody>\n",
       "</table>\n",
       "</div>"
      ],
      "text/plain": [
       "                                                text  label  age  length  \\\n",
       "0  Когда-то я был добрым романтиком, который стре...      1   32      15   \n",
       "1  Здраствуйте! Я каждый день просыпаюсь с мыслью...      1   28       6   \n",
       "2  У меня проблемы с девушкой. Каждую ссору я не ...      1   16      10   \n",
       "3  Вся моя жизнь это один сплошной ад, в котором ...      1   32       5   \n",
       "4  Я хочу уснуть и не проснуться.каждый день одно...      1   14      18   \n",
       "\n",
       "                                      text_in_tokens  \\\n",
       "0  когда-то добрым романтиком , который стремился...   \n",
       "1  здраствуйте ! каждый день просыпаюсь мыслью жи...   \n",
       "2  проблемы девушкой . каждую ссору могу перенест...   \n",
       "3  вся жизнь это сплошной ад , котором горю посто...   \n",
       "4  хочу уснуть проснуться . каждый день одно . ка...   \n",
       "\n",
       "                                text_in_tokens_no_sw  \\\n",
       "0  Когда-то я был добрым романтиком , который стр...   \n",
       "1  Здраствуйте ! Я каждый день просыпаюсь с мысль...   \n",
       "2  У меня проблемы с девушкой . Каждую ссору я не...   \n",
       "3  Вся моя жизнь это один сплошной ад , в котором...   \n",
       "4  Я хочу уснуть и не проснуться . каждый день од...   \n",
       "\n",
       "                                     tokens_no_punct  \\\n",
       "0  когда-то добрым романтиком  который стремился ...   \n",
       "1  здраствуйте  каждый день просыпаюсь мыслью жив...   \n",
       "2  проблемы девушкой  каждую ссору могу перенести...   \n",
       "3  вся жизнь это сплошной ад  котором горю постоя...   \n",
       "4  хочу уснуть проснуться  каждый день одно  како...   \n",
       "\n",
       "                                     lemmatized_text  \\\n",
       "0  когда-то я быть добрый романтик который стреми...   \n",
       "1  здраствовать я каждый день просыпаться с мысль...   \n",
       "2  у я проблема с девушка каждый ссора я не мочь ...   \n",
       "3  весь мой жизнь это один сплошной ада в который...   \n",
       "4  я хотеть уснуть и не проснуться каждый день од...   \n",
       "\n",
       "                                            pos_tags  \\\n",
       "0  ADVB NPRO VERB ADJF NOUN ADJF VERB INFN ADJF N...   \n",
       "1  VERB NPRO ADJF NOUN VERB PREP NOUN ADVB NPRO V...   \n",
       "2  PREP NPRO NOUN PREP NOUN ADJF NOUN NPRO PRCL V...   \n",
       "3  ADJF ADJF NOUN PRCL ADJF ADJF NOUN PREP ADJF N...   \n",
       "4  NPRO VERB INFN CONJ PRCL INFN ADJF NOUN ADJF C...   \n",
       "\n",
       "                               lemmatized_text_no_sw  count_tokens  \n",
       "0  когда-то добрый романтик который стремиться по...           161  \n",
       "1  здраствовать каждый день просыпаться мысль жит...            64  \n",
       "2  проблема девушка каждый ссора мочь перенести о...            43  \n",
       "3  весь жизнь это сплошной ада который горе посто...            25  \n",
       "4  хотеть уснуть проснуться каждый день один како...           199  "
      ]
     },
     "execution_count": 163,
     "metadata": {},
     "output_type": "execute_result"
    }
   ],
   "source": [
    "df.head()"
   ]
  },
  {
   "cell_type": "code",
   "execution_count": 64,
   "metadata": {
    "colab": {},
    "colab_type": "code",
    "id": "nP6_MZbHTLtf"
   },
   "outputs": [],
   "source": [
    "# your code and output here\n",
    "\n",
    "class_1 = df.lemmatized_text_no_sw[df.label == 1].tolist()\n",
    "class_0 = df.lemmatized_text_no_sw[df.label == 0].tolist()"
   ]
  },
  {
   "cell_type": "code",
   "execution_count": 136,
   "metadata": {},
   "outputs": [],
   "source": [
    "import re\n",
    "\n",
    "def dict_class(class_n):\n",
    "    dct = {}\n",
    "    for st in class_n:\n",
    "        for w in st.split():\n",
    "            w = w.replace('–', '')\n",
    "            if w != '': \n",
    "                if w not in dct:\n",
    "                    dct[w] = 1\n",
    "                else:\n",
    "                    dct[w] += 1\n",
    "    del dct['-']\n",
    "    return dct, sorted(dct.items(), key=lambda x: -x[1])"
   ]
  },
  {
   "cell_type": "code",
   "execution_count": 137,
   "metadata": {},
   "outputs": [],
   "source": [
    "class_1_dict, class_1_dl  = dict_class(class_1)\n",
    "class_0_dict, class_0_dl = dict_class(class_0)"
   ]
  },
  {
   "cell_type": "code",
   "execution_count": 138,
   "metadata": {},
   "outputs": [],
   "source": [
    "top_1 = [i[0] for i in class_1_dl[:15]]\n",
    "top_0 = [i[0] for i in class_0_dl[:15]]"
   ]
  },
  {
   "cell_type": "code",
   "execution_count": 139,
   "metadata": {},
   "outputs": [
    {
     "data": {
      "text/plain": [
       "['это',\n",
       " 'год',\n",
       " 'жить',\n",
       " 'хотеть',\n",
       " 'жизнь',\n",
       " 'мочь',\n",
       " 'человек',\n",
       " 'весь',\n",
       " 'очень',\n",
       " 'мой',\n",
       " 'просто',\n",
       " 'знать',\n",
       " 'который',\n",
       " 'свой',\n",
       " 'друг']"
      ]
     },
     "execution_count": 139,
     "metadata": {},
     "output_type": "execute_result"
    }
   ],
   "source": [
    "top_1"
   ]
  },
  {
   "cell_type": "code",
   "execution_count": 140,
   "metadata": {},
   "outputs": [
    {
     "data": {
      "image/png": "[encoded data removed]",
      "text/plain": [
       "<Figure size 720x360 with 1 Axes>"
      ]
     },
     "metadata": {},
     "output_type": "display_data"
    }
   ],
   "source": [
    "plt.figure(figsize=(10,5))\n",
    "plt.bar(range(15), [i[1] for i in class_1_dl[:15]])\n",
    "plt.xticks(range(15), [i[0] for i in class_1_dl[:15]], rotation=45)\n",
    "plt.title('Класс 1');"
   ]
  },
  {
   "cell_type": "code",
   "execution_count": 141,
   "metadata": {},
   "outputs": [
    {
     "data": {
      "text/plain": [
       "['год',\n",
       " 'который',\n",
       " 'один',\n",
       " 'это',\n",
       " 'наш',\n",
       " 'проект',\n",
       " 'https',\n",
       " 'свой',\n",
       " 'город',\n",
       " 'работа',\n",
       " 'день',\n",
       " 'апрель',\n",
       " 'также',\n",
       " 'россия',\n",
       " 'область']"
      ]
     },
     "execution_count": 141,
     "metadata": {},
     "output_type": "execute_result"
    }
   ],
   "source": [
    "top_0"
   ]
  },
  {
   "cell_type": "code",
   "execution_count": 142,
   "metadata": {},
   "outputs": [
    {
     "data": {
      "image/png": "[encoded data removed]",
      "text/plain": [
       "<Figure size 720x360 with 1 Axes>"
      ]
     },
     "metadata": {},
     "output_type": "display_data"
    }
   ],
   "source": [
    "plt.figure(figsize=(10,5))\n",
    "plt.bar(range(15), [i[1] for i in class_0_dl[:15]])\n",
    "plt.xticks(range(15), top_0, rotation=45)\n",
    "plt.title('Класс 0');"
   ]
  },
  {
   "cell_type": "code",
   "execution_count": 73,
   "metadata": {},
   "outputs": [],
   "source": [
    "# Пересечения для всех словарей\n",
    "\n",
    "keys_1 = set(class_1_dict.keys())\n",
    "keys_0 = set(class_0_dict.keys())\n",
    "\n",
    "intersection = keys_1 & keys_0"
   ]
  },
  {
   "cell_type": "code",
   "execution_count": 144,
   "metadata": {},
   "outputs": [
    {
     "data": {
      "text/plain": [
       "{'окупаться',\n",
       " 'долговечный',\n",
       " 'молельный',\n",
       " 'mass',\n",
       " 'выборка',\n",
       " 'нужда',\n",
       " 'истый',\n",
       " 'свихнуться',\n",
       " 'самообслуживание',\n",
       " 'повышаться',\n",
       " 'павловка',\n",
       " 'победитель',\n",
       " 'овация',\n",
       " 'занавес',\n",
       " 'цементный',\n",
       " 'рыбка',\n",
       " 'древнегреческий',\n",
       " 'свечка',\n",
       " 'неизбывный',\n",
       " '11-классник',\n",
       " 'охать',\n",
       " 'низкочастотный',\n",
       " 'грусть',\n",
       " 'мдп',\n",
       " 'полезный',\n",
       " 'малоэффективный',\n",
       " '154',\n",
       " 'улыбка',\n",
       " 'название',\n",
       " 'иной',\n",
       " 'приносить',\n",
       " 'fashion',\n",
       " 'ликвидировать',\n",
       " 'hollywood',\n",
       " 'грн',\n",
       " 'загружать',\n",
       " 'бессознательный',\n",
       " 'входящий',\n",
       " 'спичечный',\n",
       " 'стилистика',\n",
       " 'поминальный',\n",
       " 'равномерно',\n",
       " 'утопать',\n",
       " 'согреться',\n",
       " 'socialmedia',\n",
       " '7-00',\n",
       " 'калланетик',\n",
       " 'морепродукт',\n",
       " 'терри',\n",
       " 'расплачиваться',\n",
       " 'приобретаться',\n",
       " 'ален',\n",
       " 'считаный',\n",
       " 'спортивно',\n",
       " 'canal',\n",
       " 'стабильность',\n",
       " 'сшить',\n",
       " 'yi',\n",
       " 'обналичивание',\n",
       " 'метла',\n",
       " 'брокер',\n",
       " 'липа',\n",
       " 'ic',\n",
       " 'действовать',\n",
       " 'маска',\n",
       " 'расслабиться',\n",
       " 'контингент',\n",
       " 'nf',\n",
       " 'изменчивый',\n",
       " 'свалка',\n",
       " 'шахматный',\n",
       " 'мультсериал',\n",
       " 'категорически',\n",
       " 'носов',\n",
       " 'невыход',\n",
       " 'тишка',\n",
       " '7-го',\n",
       " 'трактат',\n",
       " 'влечь',\n",
       " 'верование',\n",
       " 'аутизм',\n",
       " 'багровый',\n",
       " 'скинуть',\n",
       " 'йогурт',\n",
       " 'развеселить',\n",
       " 'стеснённый',\n",
       " 'долгий',\n",
       " 'фу',\n",
       " 'роллс-ройс',\n",
       " 'невский',\n",
       " 'горчить',\n",
       " 'помощница',\n",
       " 'печататься',\n",
       " '800',\n",
       " 'неуспевающий',\n",
       " 'неподготовленный',\n",
       " 'передать',\n",
       " 'нафик',\n",
       " '7000',\n",
       " 'избушка',\n",
       " 'социализация',\n",
       " 'спиридон',\n",
       " 'причесаться',\n",
       " 'мастерство',\n",
       " 'юг',\n",
       " 'несостоявшийся',\n",
       " 'окупать',\n",
       " '3-она',\n",
       " 'живописный',\n",
       " 'вегето-сосудистый',\n",
       " 'треть',\n",
       " 'плёс',\n",
       " 'выбирать',\n",
       " 'выправлять',\n",
       " 'курт',\n",
       " 'следователь',\n",
       " 'митинг',\n",
       " 'прирастать',\n",
       " 'меню',\n",
       " 'гринвич',\n",
       " 'присматривать',\n",
       " 'драматичный',\n",
       " 'усыновление',\n",
       " 'введение',\n",
       " 'дегенерат',\n",
       " 'одурь',\n",
       " 'футляр',\n",
       " 'фабрика',\n",
       " 'вскрыть',\n",
       " 'испытанный',\n",
       " 'молоканов',\n",
       " 'sr',\n",
       " 'поражение',\n",
       " 'хах',\n",
       " 'браковать',\n",
       " 'гротескный',\n",
       " 'искрить',\n",
       " 'вязать',\n",
       " 'интеллектуальный',\n",
       " 'иметься',\n",
       " 'видеть',\n",
       " 'цепляться',\n",
       " 'любовь-это',\n",
       " 'увенчать',\n",
       " 'coin',\n",
       " 'блатной',\n",
       " 'устроенный',\n",
       " 'инфаркт',\n",
       " 'ослабеть',\n",
       " 'обмолвиться',\n",
       " 'инвентаризация',\n",
       " 'сладость',\n",
       " 'обвить',\n",
       " 'окунуться',\n",
       " 'солдатик',\n",
       " 'зевать',\n",
       " 'шефнер',\n",
       " 'кака',\n",
       " 'волонтёр',\n",
       " 'мобильность',\n",
       " 'интересовать',\n",
       " 'дырка',\n",
       " 'показаться',\n",
       " '200000',\n",
       " 'гайка',\n",
       " 'осторожность',\n",
       " 'гонение',\n",
       " 'делаться',\n",
       " 'судимость',\n",
       " 'зайти',\n",
       " 'отрешиться',\n",
       " 'дому-',\n",
       " 'офицерский',\n",
       " 'изобрести',\n",
       " 'изнасилование',\n",
       " 'дебильный',\n",
       " 'поникнуть',\n",
       " 'высвобождаться',\n",
       " 'джейсон',\n",
       " 'сергий',\n",
       " 'мёртвый',\n",
       " 'губить',\n",
       " 'мальчуган',\n",
       " 'самарский',\n",
       " 'вываливаться',\n",
       " 'раздор',\n",
       " 'обогреть',\n",
       " 'массажик',\n",
       " 'дремать',\n",
       " 'стон',\n",
       " 'педагогика',\n",
       " 'грубый',\n",
       " 'представиться',\n",
       " 'феминистка',\n",
       " 'усиливать',\n",
       " 'ирка',\n",
       " 'поджидать',\n",
       " 'наделить',\n",
       " 'нечеловеческий',\n",
       " 'метаболизм',\n",
       " 'худенький',\n",
       " 'приковать',\n",
       " 'терять',\n",
       " 'плавно',\n",
       " 'разнести',\n",
       " '73',\n",
       " 'хорошый',\n",
       " 'прожиточный',\n",
       " 'присоединить',\n",
       " 'выписаться',\n",
       " 'многое',\n",
       " 'рогатка',\n",
       " 'вылезть',\n",
       " 'пенсионер',\n",
       " '3300',\n",
       " 'бросать',\n",
       " 'протяжённость',\n",
       " 'избыток',\n",
       " 'жгут',\n",
       " 'частность',\n",
       " 'скриншот',\n",
       " 'иммунитет',\n",
       " 'лезть',\n",
       " 'долг',\n",
       " 'xix-xx',\n",
       " 'сенокос',\n",
       " 'готовить',\n",
       " 'проступать',\n",
       " 'львов',\n",
       " 'басейн',\n",
       " 'позабыть',\n",
       " 'переплетение',\n",
       " 'филология',\n",
       " 'пра',\n",
       " 'откровение',\n",
       " 'ростовка',\n",
       " 'поддаться',\n",
       " 'приглушить',\n",
       " 'неожиданность',\n",
       " 'промыть',\n",
       " 'йство',\n",
       " 'развиться',\n",
       " 'rest',\n",
       " 'свидание',\n",
       " 'раздача',\n",
       " 'уплотнение',\n",
       " 'яркий',\n",
       " 'губкин',\n",
       " 'облупить',\n",
       " 'традиция',\n",
       " 'тишина',\n",
       " 'турник',\n",
       " 'сварщик',\n",
       " '6682',\n",
       " 'небрежно',\n",
       " 'постулат',\n",
       " 'скапливаться',\n",
       " 'размытый',\n",
       " 'платёжный',\n",
       " 'актоба',\n",
       " 'школьница',\n",
       " 'недолечить',\n",
       " 'гнёт',\n",
       " 'эстакада',\n",
       " 'пк',\n",
       " 'готовка',\n",
       " 'имущественный',\n",
       " '2-ая',\n",
       " 'здание',\n",
       " 'комар',\n",
       " 'преддверие',\n",
       " 'сектор',\n",
       " 'bp',\n",
       " 'загнобить',\n",
       " 'спецназовец',\n",
       " 'геройски',\n",
       " '2014-ом',\n",
       " 'iphone',\n",
       " 'youtube',\n",
       " 'медучилище',\n",
       " 'лесбийский',\n",
       " 'пауло',\n",
       " 'q',\n",
       " 'плав',\n",
       " 'ipad',\n",
       " 'тумбочка',\n",
       " 'придумываться',\n",
       " 'лагос',\n",
       " 'теле-проект',\n",
       " 'суметь',\n",
       " 'протирать',\n",
       " 'проверять',\n",
       " 'неспортивный',\n",
       " 'гомосексуальный',\n",
       " 'рассудительный',\n",
       " 'конце-конец',\n",
       " 'реализм',\n",
       " 'петя',\n",
       " 'потанин',\n",
       " 'санитария',\n",
       " 'процент',\n",
       " 'эйнштейн',\n",
       " 'перепроверить',\n",
       " 'авантюрный',\n",
       " 'колючка',\n",
       " 'резина',\n",
       " 'мистер',\n",
       " 'масло',\n",
       " 'брызги',\n",
       " 'шляпа',\n",
       " 'features',\n",
       " 'прощение',\n",
       " 'ресница',\n",
       " 'усмотрение',\n",
       " 'педсовет',\n",
       " 'кинуться',\n",
       " 'любезный',\n",
       " 'dk',\n",
       " 'мерчендайзеро',\n",
       " 'евроремонт',\n",
       " 'чесноков',\n",
       " 'организация',\n",
       " 'рецензия',\n",
       " 'российский',\n",
       " 'безупречный',\n",
       " 'наблюдаться',\n",
       " 'растягиваться',\n",
       " 'договорённость',\n",
       " 'расцветать',\n",
       " 'сбалансированный',\n",
       " 'смилостивиться',\n",
       " 'явление',\n",
       " 'длиннющий',\n",
       " 'омыть',\n",
       " 'ito',\n",
       " 'мазд',\n",
       " 'склонный',\n",
       " 'купе',\n",
       " 'мчаться',\n",
       " 'сустав',\n",
       " 'угостить',\n",
       " 'родня',\n",
       " 'моск',\n",
       " 'предоставляться',\n",
       " 'разгоняться',\n",
       " 'чаемый',\n",
       " 'пионербол',\n",
       " 'образумить',\n",
       " 'саша',\n",
       " 'титаник',\n",
       " 'простыня',\n",
       " 'таня',\n",
       " 'вычесть',\n",
       " 'вместе-',\n",
       " 'доцент',\n",
       " '12-00',\n",
       " 'перспективный',\n",
       " 'морозный',\n",
       " 'плотский',\n",
       " 'комендант',\n",
       " 'порекомендовать',\n",
       " 'жо',\n",
       " 'ти',\n",
       " 'найти-таки',\n",
       " 'померкнуть',\n",
       " 'грыжа',\n",
       " 'коль',\n",
       " 'суд',\n",
       " 'неорганизованность',\n",
       " 'мешать',\n",
       " 'рано',\n",
       " 'точно',\n",
       " 'исключаться',\n",
       " 'выстраиваться',\n",
       " 'коленка',\n",
       " 'негодяй',\n",
       " 'сяо',\n",
       " 'жёрнов',\n",
       " 'проломить',\n",
       " '322',\n",
       " 'москвин',\n",
       " 'идиотизм',\n",
       " 'заколка',\n",
       " '12-13',\n",
       " 'аж',\n",
       " 'сидоров',\n",
       " 'пыхать',\n",
       " 'реализовываться',\n",
       " 'ёкнуть',\n",
       " 'диснеевский',\n",
       " 'заседать',\n",
       " 'маркер',\n",
       " 'cj',\n",
       " 'польша',\n",
       " 'мучение',\n",
       " 'интеллект',\n",
       " 'обыкновенно',\n",
       " 'дом-работа-д',\n",
       " 'паблик',\n",
       " 'смешить',\n",
       " 'расстраивать',\n",
       " 'головокружительный',\n",
       " 'pleasure',\n",
       " 'трон',\n",
       " 'инсценировка',\n",
       " '150',\n",
       " 'критиковать',\n",
       " 'сбой',\n",
       " 'сыр',\n",
       " 'фора',\n",
       " 'помошница',\n",
       " 'спам',\n",
       " 'грудина',\n",
       " 'таро',\n",
       " 'хореография',\n",
       " 'pci',\n",
       " 'лазерный',\n",
       " 'приехать',\n",
       " 'чернорабочий',\n",
       " 'экзема',\n",
       " 'подбородок',\n",
       " 'попасть',\n",
       " 'уза',\n",
       " 'грудничек',\n",
       " 'ренессанс',\n",
       " '70-80',\n",
       " 'молодожён',\n",
       " 'преминуть',\n",
       " 'созваниваться',\n",
       " 'опёнок',\n",
       " '200-300',\n",
       " 'многодневный',\n",
       " 'кое-что',\n",
       " 'нарядный',\n",
       " 'справить',\n",
       " 'незначительный',\n",
       " 'изжить',\n",
       " 'расстрел',\n",
       " 'троечник',\n",
       " 'специалист-эксперт',\n",
       " 'владелец',\n",
       " 'диплом',\n",
       " 'юбилей',\n",
       " '18-19',\n",
       " 'священно',\n",
       " 'кадый',\n",
       " 'выступление',\n",
       " 'скакалка',\n",
       " 'форумный',\n",
       " 'выбивать',\n",
       " 'репортаж',\n",
       " 'петься',\n",
       " 'вопрошать',\n",
       " 'выматывать',\n",
       " 'яндекс',\n",
       " 'торс',\n",
       " 'отправлять',\n",
       " 'оспаривать',\n",
       " '£',\n",
       " 'весёлый',\n",
       " 'прикручивать',\n",
       " 'dn',\n",
       " 'чемпионка',\n",
       " '167',\n",
       " 'наполненность',\n",
       " 'шест',\n",
       " '1007',\n",
       " 'руский',\n",
       " 'бессердечный',\n",
       " '4-ого',\n",
       " 'тренинг',\n",
       " 'тёмно-синий',\n",
       " 'вдв',\n",
       " 'вмешательство',\n",
       " 'макушка',\n",
       " 'сломать',\n",
       " 'господний',\n",
       " 'астма',\n",
       " 'раскадровка',\n",
       " 'депо',\n",
       " 'гитара',\n",
       " 'прислушиваться',\n",
       " 'ро',\n",
       " 'лазарет',\n",
       " 'проучить',\n",
       " 'блэк',\n",
       " 'жёстко',\n",
       " 'невинность',\n",
       " 'сахиль',\n",
       " 'подкрепляться',\n",
       " 'пошло',\n",
       " 'неотъемлемый',\n",
       " 'разн',\n",
       " 'завышать',\n",
       " 'защититься',\n",
       " 'побеседовать',\n",
       " 'раздумывать',\n",
       " '929',\n",
       " 'оглядка',\n",
       " 'лузер',\n",
       " 'склеп',\n",
       " 'сколько',\n",
       " 'плачущий',\n",
       " 'svk',\n",
       " 'утихать',\n",
       " 'христос',\n",
       " 'человекоподобный',\n",
       " 'шарик',\n",
       " 'шутка',\n",
       " 'собраться',\n",
       " 'пион',\n",
       " 'встрять',\n",
       " 'мастер',\n",
       " 'опрос',\n",
       " 'рижский',\n",
       " 'рубцовый',\n",
       " 'нетронутый',\n",
       " 'диагностика',\n",
       " 'спирт',\n",
       " 'пожалуйс',\n",
       " 'aa',\n",
       " 'пристанище',\n",
       " 'неизведанный',\n",
       " 'направляться',\n",
       " 'трёхэтажный',\n",
       " 'погибнуть',\n",
       " 'раздумье',\n",
       " 'неадекватный',\n",
       " 'сигнализировать',\n",
       " 'дольче',\n",
       " 'подоспеть',\n",
       " 'голод',\n",
       " 'lyric',\n",
       " 'подступать',\n",
       " 'жёсткий',\n",
       " 'панин',\n",
       " 'алмат',\n",
       " 'надомный',\n",
       " '6789',\n",
       " 'взирать',\n",
       " 'вета',\n",
       " 'верблюд',\n",
       " 'деревообработка',\n",
       " 'незаурядный',\n",
       " 'выжимка',\n",
       " 'мусорить',\n",
       " 'необходимый',\n",
       " 'аниматор',\n",
       " 'культурно',\n",
       " 'научно',\n",
       " 'усидчивый',\n",
       " 'обставить',\n",
       " 'неверие',\n",
       " 'подтверждение',\n",
       " 'лайонс',\n",
       " 'отдалённо',\n",
       " 'oum',\n",
       " 'интересно',\n",
       " 'выздоровление',\n",
       " 'посвящение',\n",
       " 'оригинал',\n",
       " 'приподнести',\n",
       " 'возразить',\n",
       " 'завить',\n",
       " 'запомнить',\n",
       " 'сохранять',\n",
       " 'страшилка',\n",
       " 'станеш',\n",
       " 'духота',\n",
       " 'рвануть',\n",
       " 'забивать',\n",
       " 'приостанавливать',\n",
       " 'инсулиновый',\n",
       " 'безумец',\n",
       " 'gi',\n",
       " 'равнодушный',\n",
       " 'гнушаться',\n",
       " 'вслушиваться',\n",
       " '24-25',\n",
       " 'доминикана',\n",
       " 'зависать',\n",
       " 'сво',\n",
       " 'ангельский',\n",
       " 'сэм',\n",
       " 'ластик',\n",
       " 'посчастливиться',\n",
       " 'навредить',\n",
       " 'нацистский',\n",
       " 'поучение',\n",
       " 'скитаться',\n",
       " 'суперспособность',\n",
       " 'достояние',\n",
       " '13-ий',\n",
       " 'выражать',\n",
       " '55',\n",
       " 'отсутствовать',\n",
       " 'звоночек',\n",
       " 'прибавлять',\n",
       " 'упрощённый',\n",
       " 'ложечка',\n",
       " 'высушить',\n",
       " 'неу',\n",
       " 'отс',\n",
       " 'сдерживать',\n",
       " 'щадить',\n",
       " 'взр',\n",
       " 'заподозрить',\n",
       " 'гоняться',\n",
       " 'сопротивляться',\n",
       " 'грош',\n",
       " 'мопед',\n",
       " 'вячеслав',\n",
       " 'песенка',\n",
       " 'босой',\n",
       " 'сообщение',\n",
       " 'charity',\n",
       " 'рам',\n",
       " 'утомительно',\n",
       " 'ассоциация',\n",
       " 'заставать',\n",
       " 'отдалённый',\n",
       " 'явственный',\n",
       " 'нагрубить',\n",
       " 'воспитанный',\n",
       " 'мать-героиня',\n",
       " 'паста',\n",
       " 'шлейф',\n",
       " 'cc',\n",
       " 'приняться',\n",
       " 'лариса',\n",
       " 'задор',\n",
       " 'тамил',\n",
       " 'un',\n",
       " 'гололёд',\n",
       " 'подсказка',\n",
       " 'флуда',\n",
       " 'пинцет',\n",
       " 'два-четыре',\n",
       " 'радио',\n",
       " 'звонкий',\n",
       " 'завтра',\n",
       " 'потанцевать',\n",
       " 'сдержанно',\n",
       " 'хохот',\n",
       " 'овдоветь',\n",
       " 'проявление',\n",
       " 'торонто',\n",
       " 'словечко',\n",
       " 'творчество',\n",
       " 'другать',\n",
       " 'чугунный',\n",
       " 'закинуть',\n",
       " 'вещество',\n",
       " 'циничный',\n",
       " 'насытить',\n",
       " 'десятка',\n",
       " 'предъявить',\n",
       " 'официальный',\n",
       " 'осыпаться',\n",
       " 'эффективно',\n",
       " 'гадания',\n",
       " '3-ия',\n",
       " 'первокурсница',\n",
       " 'независимый',\n",
       " 'конкурентка',\n",
       " 'увольнять',\n",
       " 'взаимопомощь',\n",
       " 'обновление',\n",
       " 'спусковой',\n",
       " 'мороженный',\n",
       " 'братия',\n",
       " 'март',\n",
       " 'роднить',\n",
       " 'перемалывать',\n",
       " 'сампо',\n",
       " 'неграмотный',\n",
       " '2-ого',\n",
       " '193',\n",
       " 'африка',\n",
       " 'индия',\n",
       " 'бриллиант',\n",
       " 'ценный',\n",
       " 'умереть',\n",
       " 'поросячий',\n",
       " 'фильм',\n",
       " 'xs',\n",
       " 'жестоко',\n",
       " 'аппетит',\n",
       " 'зима',\n",
       " 'хищение',\n",
       " 'поучать',\n",
       " 'льстить',\n",
       " 'отдалённость',\n",
       " 'вопрос',\n",
       " 'обычный',\n",
       " 'ломкий',\n",
       " 'провернуть',\n",
       " 'гулять',\n",
       " 'хрущевский',\n",
       " 'онлайн-курс',\n",
       " 'жалеть',\n",
       " 'поход',\n",
       " 'повальный',\n",
       " 'занос',\n",
       " 'meb',\n",
       " 'восьмилетний',\n",
       " 'рейнджер',\n",
       " 'королевство',\n",
       " 'заманчивый',\n",
       " 'социалка',\n",
       " 'стрессоустойчивый',\n",
       " 'пронзать',\n",
       " 'миома',\n",
       " 'упустить',\n",
       " 'пм',\n",
       " 'ua',\n",
       " 'сбыт',\n",
       " 'уточнить',\n",
       " 'ася',\n",
       " 'соколовский',\n",
       " 'переложить',\n",
       " 'остерегаться',\n",
       " 'fca',\n",
       " 'аврал',\n",
       " 'подрабатывать',\n",
       " 'be',\n",
       " 'вика',\n",
       " 'дерзать',\n",
       " 'ревматолог',\n",
       " 'ант',\n",
       " 'издательство',\n",
       " 'здравый',\n",
       " 'развести',\n",
       " 'овсянка',\n",
       " 'vesti',\n",
       " 'дообследование',\n",
       " 'леди',\n",
       " 'банкнот',\n",
       " 'библиотекарь',\n",
       " 'заём',\n",
       " 'заинтересованность',\n",
       " 'зашкаливалить',\n",
       " 'as',\n",
       " 'нимфоманка',\n",
       " 'неясно',\n",
       " 'таять',\n",
       " 'сеточка',\n",
       " 'ловец',\n",
       " 'дворовый',\n",
       " 'испытывать',\n",
       " 'организм',\n",
       " 'вычеркнуть',\n",
       " 'кладбище',\n",
       " 'связываться',\n",
       " 'поверх',\n",
       " 'нутро',\n",
       " 'паломнический',\n",
       " 'беззаконие',\n",
       " 'повстречаться',\n",
       " \"'\",\n",
       " 'невыполненный',\n",
       " 'теплеть',\n",
       " 'ссылать',\n",
       " 'нажаловаться',\n",
       " 'женщины-',\n",
       " '1-я',\n",
       " 'атмосферный',\n",
       " '1200-1300',\n",
       " 'покидать',\n",
       " 'отпечататься',\n",
       " 'обогатиться',\n",
       " 'двусторонний',\n",
       " 'точный',\n",
       " 'кураж',\n",
       " 'articles',\n",
       " 'трижды',\n",
       " 'дворник',\n",
       " 'бензин',\n",
       " 'свая',\n",
       " '1-4',\n",
       " 'бедный',\n",
       " 'секретарить',\n",
       " 'решиться',\n",
       " 'предположение',\n",
       " 'положительный',\n",
       " 'обжигать',\n",
       " 'прота',\n",
       " 'вызвать',\n",
       " 'часами',\n",
       " 'рич',\n",
       " 'вымогать',\n",
       " 'разыскивать',\n",
       " 'чувак',\n",
       " 'вердикт',\n",
       " 'telegram',\n",
       " 'йельский',\n",
       " 'дисплей',\n",
       " 'завестись',\n",
       " 'атмосфера',\n",
       " 'папаха',\n",
       " 'отопительный',\n",
       " 'служба',\n",
       " 'брач',\n",
       " 'прикол',\n",
       " 'граната',\n",
       " 'разворовать',\n",
       " 'пристегнуть',\n",
       " 'вахтер',\n",
       " 'грёза',\n",
       " 'скатин',\n",
       " 'ответный',\n",
       " 'мастика',\n",
       " 'свернуть',\n",
       " 'хун',\n",
       " 'стишок',\n",
       " 'шампунь',\n",
       " 'альфа',\n",
       " 'утилизироваться',\n",
       " 'отпраздновать',\n",
       " 'туловище',\n",
       " 'отвращение',\n",
       " 'скора',\n",
       " 'цыплёнок',\n",
       " 'вчетвером',\n",
       " 'аккуратность',\n",
       " 'любительский',\n",
       " 'обращать',\n",
       " 'движ',\n",
       " 'дипломат',\n",
       " 'закружить',\n",
       " 'студенческий',\n",
       " 'лайкать',\n",
       " 'порядочно',\n",
       " 'подленький',\n",
       " 'явиться',\n",
       " 'позвать',\n",
       " 'нетрудно',\n",
       " 'ошеломлять',\n",
       " 'профессор',\n",
       " 'окраска',\n",
       " 'наследственный',\n",
       " 'вырезание',\n",
       " 'вы-',\n",
       " 'вмещаться',\n",
       " 'зажиточный',\n",
       " 'девяносто',\n",
       " 'иммигрант',\n",
       " 'башкирия',\n",
       " 'незаметно',\n",
       " 'живопись',\n",
       " 'сварочный',\n",
       " 'присмотреть',\n",
       " 'приветливый',\n",
       " 'шалить',\n",
       " 'курносый',\n",
       " 'кличка',\n",
       " 'неэффективно',\n",
       " 'турфирма',\n",
       " 'настасья',\n",
       " 'муравейник',\n",
       " 'постараться',\n",
       " 'юрист',\n",
       " 'русскоерадио',\n",
       " 'звереть',\n",
       " 'искоренить',\n",
       " 'дрезина',\n",
       " 'шея',\n",
       " 'ищущий',\n",
       " 'расправить',\n",
       " 'премия',\n",
       " 'бешеный',\n",
       " 'рубль',\n",
       " 'подсчёт',\n",
       " 'дзюдо',\n",
       " 'гнилой',\n",
       " 'подхватить',\n",
       " 'заварка',\n",
       " 'три-четыре',\n",
       " 'сменить',\n",
       " 'гарантия',\n",
       " 'котик',\n",
       " 'корма',\n",
       " 'впустую',\n",
       " 'выключаться',\n",
       " 'отнюдь',\n",
       " 'допускаться',\n",
       " 'мгновенный',\n",
       " '381',\n",
       " 'генерал-майор',\n",
       " 'ида',\n",
       " 'тг',\n",
       " 'мид',\n",
       " 'чувствовать',\n",
       " 'fl',\n",
       " '2600',\n",
       " 'посветить',\n",
       " 'клубок',\n",
       " 'доля',\n",
       " 'чудотворный',\n",
       " 'вирджиния',\n",
       " 'помощник',\n",
       " 'рамна',\n",
       " 'делоно',\n",
       " 'сброс',\n",
       " 'жизнедеятельность',\n",
       " 'кручина',\n",
       " 'послужной',\n",
       " 'уложить',\n",
       " 'bv',\n",
       " 'мечтательно',\n",
       " 'виденье',\n",
       " 'воодушевление',\n",
       " 'тревожность',\n",
       " 'кесарев',\n",
       " 'счастие',\n",
       " 'эквивалент',\n",
       " 'малюсенький',\n",
       " '50-60',\n",
       " 'youth',\n",
       " 'балканский',\n",
       " 'взамен',\n",
       " 'разнообразие',\n",
       " 'вывесить',\n",
       " 'беспредельный',\n",
       " 'эпицентр',\n",
       " 'знаешь',\n",
       " 'books',\n",
       " 'компонента',\n",
       " 'рассеянность',\n",
       " 'завести',\n",
       " 'готический',\n",
       " 'malaysia',\n",
       " 'опохмел',\n",
       " 'чувствоваться',\n",
       " 'непохожесть',\n",
       " 'младший',\n",
       " 'милиция',\n",
       " 'семь',\n",
       " 'высовываться',\n",
       " 'безвозмездно',\n",
       " 'конный',\n",
       " 'ряд',\n",
       " 'повторно',\n",
       " 'разочароваться',\n",
       " 'запросить',\n",
       " 'ego',\n",
       " 'ctrl',\n",
       " 'жизнь-это',\n",
       " 'холдинг',\n",
       " '16',\n",
       " 'релакс',\n",
       " 'потомство',\n",
       " 'столько',\n",
       " 'необузданный',\n",
       " 'услышать',\n",
       " 'равновесие',\n",
       " 'атас',\n",
       " 'деятельный',\n",
       " 'обширно',\n",
       " 'превыше',\n",
       " '15-17',\n",
       " 'идо',\n",
       " 'улететь',\n",
       " 'конч',\n",
       " 'стационарный',\n",
       " '171',\n",
       " 'страховка',\n",
       " 'каппа',\n",
       " 'стесняться',\n",
       " 'разовый',\n",
       " 'слиток',\n",
       " 'куб',\n",
       " 'сухой',\n",
       " 'толика',\n",
       " 'нашуметь',\n",
       " 'выглядить',\n",
       " 'резание',\n",
       " '330',\n",
       " 'театральный',\n",
       " 'трофи',\n",
       " 'занятой',\n",
       " 'кевин',\n",
       " 'посадить',\n",
       " 'систематизировать',\n",
       " 'вывеска',\n",
       " 'порядочность',\n",
       " 'иж',\n",
       " 'таз',\n",
       " 'прелюдия',\n",
       " 'перевестись',\n",
       " 'academia',\n",
       " 'нудный',\n",
       " 'телевидение',\n",
       " 'непредсказуемый',\n",
       " 'влезать',\n",
       " 'вертеться',\n",
       " 'закачка',\n",
       " 'витамин',\n",
       " 'поздравить',\n",
       " 'toefl',\n",
       " ...}"
      ]
     },
     "execution_count": 144,
     "metadata": {},
     "output_type": "execute_result"
    }
   ],
   "source": [
    "intersection"
   ]
  },
  {
   "cell_type": "code",
   "execution_count": 75,
   "metadata": {},
   "outputs": [],
   "source": [
    "c = list(set(top_1) & set(top_0))"
   ]
  },
  {
   "cell_type": "code",
   "execution_count": 76,
   "metadata": {},
   "outputs": [
    {
     "data": {
      "text/plain": [
       "['это', 'который', 'свой', 'год']"
      ]
     },
     "execution_count": 76,
     "metadata": {},
     "output_type": "execute_result"
    }
   ],
   "source": [
    "c"
   ]
  },
  {
   "cell_type": "code",
   "execution_count": 78,
   "metadata": {},
   "outputs": [
    {
     "name": "stdout",
     "output_type": "stream",
     "text": [
      "Количество пересечений в топ-15:  4\n"
     ]
    }
   ],
   "source": [
    "print('Количество пересечений в топ-15: ', len(c))"
   ]
  },
  {
   "cell_type": "markdown",
   "metadata": {
    "colab_type": "text",
    "id": "AqfZJ4csRSxZ"
   },
   "source": [
    "7. Какие текстовые признаки могли бы быть полезными для решения задачи классификации на этих данных? Приведите примеры и перечислите ресурсы, которые вы бы использовали для конструирования этих признаков."
   ]
  },
  {
   "cell_type": "code",
   "execution_count": 170,
   "metadata": {},
   "outputs": [
    {
     "data": {
      "text/plain": [
       "['Когда-то я был добрым романтиком, который стремился помочь всем, кто попросит. Мне никогда не было себя жалко, я верил в человечность. Однако все это было фальшем, суррогатная дружба и какие-то непонятные отношения. Девушка, которая клялась, что любит, в итоге изменила да и ушла к другому. Другой так и не появилось - я бесперспективный, а попросту, без достаточного достатка и собственного жилья. Родители с шизофренией (F20.2) Меня никто никогда не поддерживал и не поддерживает. Итак, отдавая кусочек себя каждому, я потерял уже свое душевное тепло, мне стало безразлично, апатия. Бывшая девушка без всяких усилий нашла нового, который на ней сразу же женился и возит ее по разным странам мира. Конечно же, я брался за любую работу, чтобы показать, что не хуже, но меня часто обманывали - недоплачивали или не оплачивали вовсе. Я простой неудачник, который потерял смысл жизни. Мою ситуацию не спасает даже внешность - она ужасная (попросту урод), потому часто завидую тем, кому повезло с внешностью, как их любят и как все им дается легко. Я занимаюсь своим любимым делом, но часто посещают мысли, что никому это не надо, также как и я, все это тщетно, бессмысленно. Это сказывается пустота внутри меня. Часто удивляет, как многим повезло, как у них все складывается, и почему ничего не складывается у меня, почему все выходит как-то не так - то потеряют документы мои, то не заплатят именно мне, то именно мое место будет закрыто, именно меня используют и бросают, именно у меня такие родители. Иногда хочется, чтобы все окружающие оказались на моем месте, прочувствовали все это на себе и поняли каково это, но еще глубже я просто хочу прекратить это все, просто прервать свое существование. ',\n",
       " 'Здраствуйте! Я каждый день просыпаюсь с мыслью зачем я живу? Моя дизнь пустая и безсмысленная! У меня нет ни мужа, ни детей, ни даже отношений, какое то безпросветное, тотальное одиночество, которое никак не заканчивается, все мои попытки познакомится с кем то, ничем не заканчиваются, я пытвюсь что то сделать, но ничего не выходит,я барахтаюсь, барахтаюсь,но дело не движется с мертвой точки,  я понимаю и осознаю, что так оно все и будет, и чем старше я становлюсь, тем страшнее! И не говорите, чем нибудь себя занять, отвлечься, пробовала, не помогает.на почве всез этих переживаний у меня пошатнулось здоровье, я плохо сплю, практически ничего не ем, может так и лучше, я буду медленно умирать, дальнейшее существование безсмысленно! Я только занимаю чье то место.']"
      ]
     },
     "execution_count": 170,
     "metadata": {},
     "output_type": "execute_result"
    }
   ],
   "source": [
    "df.text[df.label == 1].head(2).tolist()"
   ]
  },
  {
   "cell_type": "markdown",
   "metadata": {
    "colab": {},
    "colab_type": "code",
    "id": "4T5Rdx1HRjWX"
   },
   "source": [
    "* возможно, для решения задачи классификации здесь могли бы быть полезны разные н-граммы (би-граммы, три-граммы и т.д.) по словам (примером может случить выдача функция, которую нужно было написать вручную выше). Для реализации можно применить tf-idf - тогда мы сможем получить лучшие н-граммы по ranking (вполне возможно, что это может пригодиться для классфикации депрессивных текстов). Можно применить то, что уже реализовано в работе\n",
    "\n",
    "* тут может помочь набор слов (словарь), имеющих негативную/депрессивную окраску: депрессия, смерть, умереть и т.д. Можно проверить налилчие подобных слов в предложениях и сохрнаить это в отдельную колонку с значениями 0 - нет слова, 1 - есть. Это может показать, является ли текст депрессивным.\n",
    "\n",
    "* можно посмотреть на смайлики (очень спорный момент), но можно попробовать: предполагаем, что грустные смайлики будут чаще использоваться в депрессивных текстах. Можно взять список грустных смайликов и дополнить, например, такими: ⚰. И по аналогии с предыдущим пунктом проверить наличие в текстах.\n",
    "\n",
    "* кажется, что можно с помощью tf-idf можно сделать матричное представление текстов (sklearn - TfIdf.Vectoizer()), также можно сделать bag of words (с помощью nltk, например). Это поможет сделать вектор текста в вектор признаков.\n",
    "\n",
    "То есть нам важны всякие семантические признаки, которые могли бы позволить отличить депрессивный текст от недепрессивного.\n",
    "\n"
   ]
  },
  {
   "cell_type": "code",
   "execution_count": null,
   "metadata": {},
   "outputs": [],
   "source": []
  }
 ],
 "metadata": {
  "colab": {
   "collapsed_sections": [],
   "name": "hw_01.ipynb",
   "provenance": []
  },
  "kernelspec": {
   "display_name": "Python 3",
   "language": "python",
   "name": "python3"
  },
  "language_info": {
   "codemirror_mode": {
    "name": "ipython",
    "version": 3
   },
   "file_extension": ".py",
   "mimetype": "text/x-python",
   "name": "python",
   "nbconvert_exporter": "python",
   "pygments_lexer": "ipython3",
   "version": "3.6.8"
  },
  "widgets": {
   "application/vnd.jupyter.widget-state+json": {
    "0f1d9e4ce3e54e6a99e0d2dfe54cea60": {
     "model_module": "@jupyter-widgets/base",
     "model_name": "LayoutModel",
     "state": {
      "_model_module": "@jupyter-widgets/base",
      "_model_module_version": "1.2.0",
      "_model_name": "LayoutModel",
      "_view_count": null,
      "_view_module": "@jupyter-widgets/base",
      "_view_module_version": "1.2.0",
      "_view_name": "LayoutView",
      "align_content": null,
      "align_items": null,
      "align_self": null,
      "border": null,
      "bottom": null,
      "display": null,
      "flex": null,
      "flex_flow": null,
      "grid_area": null,
      "grid_auto_columns": null,
      "grid_auto_flow": null,
      "grid_auto_rows": null,
      "grid_column": null,
      "grid_gap": null,
      "grid_row": null,
      "grid_template_areas": null,
      "grid_template_columns": null,
      "grid_template_rows": null,
      "height": null,
      "justify_content": null,
      "justify_items": null,
      "left": null,
      "margin": null,
      "max_height": null,
      "max_width": null,
      "min_height": null,
      "min_width": null,
      "object_fit": null,
      "object_position": null,
      "order": null,
      "overflow": null,
      "overflow_x": null,
      "overflow_y": null,
      "padding": null,
      "right": null,
      "top": null,
      "visibility": null,
      "width": null
     }
    },
    "1357aaba81d944a8ab33f00fb995fe30": {
     "model_module": "@jupyter-widgets/controls",
     "model_name": "DescriptionStyleModel",
     "state": {
      "_model_module": "@jupyter-widgets/controls",
      "_model_module_version": "1.5.0",
      "_model_name": "DescriptionStyleModel",
      "_view_count": null,
      "_view_module": "@jupyter-widgets/base",
      "_view_module_version": "1.2.0",
      "_view_name": "StyleView",
      "description_width": ""
     }
    },
    "20d93cc4451d46e6a89d692d1678838b": {
     "model_module": "@jupyter-widgets/base",
     "model_name": "LayoutModel",
     "state": {
      "_model_module": "@jupyter-widgets/base",
      "_model_module_version": "1.2.0",
      "_model_name": "LayoutModel",
      "_view_count": null,
      "_view_module": "@jupyter-widgets/base",
      "_view_module_version": "1.2.0",
      "_view_name": "LayoutView",
      "align_content": null,
      "align_items": null,
      "align_self": null,
      "border": null,
      "bottom": null,
      "display": null,
      "flex": null,
      "flex_flow": null,
      "grid_area": null,
      "grid_auto_columns": null,
      "grid_auto_flow": null,
      "grid_auto_rows": null,
      "grid_column": null,
      "grid_gap": null,
      "grid_row": null,
      "grid_template_areas": null,
      "grid_template_columns": null,
      "grid_template_rows": null,
      "height": null,
      "justify_content": null,
      "justify_items": null,
      "left": null,
      "margin": null,
      "max_height": null,
      "max_width": null,
      "min_height": null,
      "min_width": null,
      "object_fit": null,
      "object_position": null,
      "order": null,
      "overflow": null,
      "overflow_x": null,
      "overflow_y": null,
      "padding": null,
      "right": null,
      "top": null,
      "visibility": null,
      "width": null
     }
    },
    "3e15a9b760304b91983597e90ee0eb16": {
     "model_module": "@jupyter-widgets/controls",
     "model_name": "HTMLModel",
     "state": {
      "_dom_classes": [],
      "_model_module": "@jupyter-widgets/controls",
      "_model_module_version": "1.5.0",
      "_model_name": "HTMLModel",
      "_view_count": null,
      "_view_module": "@jupyter-widgets/controls",
      "_view_module_version": "1.5.0",
      "_view_name": "HTMLView",
      "description": "",
      "description_tooltip": null,
      "layout": "IPY_MODEL_20d93cc4451d46e6a89d692d1678838b",
      "placeholder": "​",
      "style": "IPY_MODEL_1357aaba81d944a8ab33f00fb995fe30",
      "value": " 64039/64039 [24:16&lt;00:00, 43.96it/s]"
     }
    },
    "a77d673b16d14bc5b455c38e1f0cdb88": {
     "model_module": "@jupyter-widgets/controls",
     "model_name": "FloatProgressModel",
     "state": {
      "_dom_classes": [],
      "_model_module": "@jupyter-widgets/controls",
      "_model_module_version": "1.5.0",
      "_model_name": "FloatProgressModel",
      "_view_count": null,
      "_view_module": "@jupyter-widgets/controls",
      "_view_module_version": "1.5.0",
      "_view_name": "ProgressView",
      "bar_style": "success",
      "description": "100%",
      "description_tooltip": null,
      "layout": "IPY_MODEL_0f1d9e4ce3e54e6a99e0d2dfe54cea60",
      "max": 64039,
      "min": 0,
      "orientation": "horizontal",
      "style": "IPY_MODEL_e38e6278295e49c2b2c868d087af2e02",
      "value": 64039
     }
    },
    "b97ef017240046678183555b0a07f304": {
     "model_module": "@jupyter-widgets/controls",
     "model_name": "HBoxModel",
     "state": {
      "_dom_classes": [],
      "_model_module": "@jupyter-widgets/controls",
      "_model_module_version": "1.5.0",
      "_model_name": "HBoxModel",
      "_view_count": null,
      "_view_module": "@jupyter-widgets/controls",
      "_view_module_version": "1.5.0",
      "_view_name": "HBoxView",
      "box_style": "",
      "children": [
       "IPY_MODEL_a77d673b16d14bc5b455c38e1f0cdb88",
       "IPY_MODEL_3e15a9b760304b91983597e90ee0eb16"
      ],
      "layout": "IPY_MODEL_dc1f82ce7cde4c3a9e61922d65800229"
     }
    },
    "dc1f82ce7cde4c3a9e61922d65800229": {
     "model_module": "@jupyter-widgets/base",
     "model_name": "LayoutModel",
     "state": {
      "_model_module": "@jupyter-widgets/base",
      "_model_module_version": "1.2.0",
      "_model_name": "LayoutModel",
      "_view_count": null,
      "_view_module": "@jupyter-widgets/base",
      "_view_module_version": "1.2.0",
      "_view_name": "LayoutView",
      "align_content": null,
      "align_items": null,
      "align_self": null,
      "border": null,
      "bottom": null,
      "display": null,
      "flex": null,
      "flex_flow": null,
      "grid_area": null,
      "grid_auto_columns": null,
      "grid_auto_flow": null,
      "grid_auto_rows": null,
      "grid_column": null,
      "grid_gap": null,
      "grid_row": null,
      "grid_template_areas": null,
      "grid_template_columns": null,
      "grid_template_rows": null,
      "height": null,
      "justify_content": null,
      "justify_items": null,
      "left": null,
      "margin": null,
      "max_height": null,
      "max_width": null,
      "min_height": null,
      "min_width": null,
      "object_fit": null,
      "object_position": null,
      "order": null,
      "overflow": null,
      "overflow_x": null,
      "overflow_y": null,
      "padding": null,
      "right": null,
      "top": null,
      "visibility": null,
      "width": null
     }
    },
    "e38e6278295e49c2b2c868d087af2e02": {
     "model_module": "@jupyter-widgets/controls",
     "model_name": "ProgressStyleModel",
     "state": {
      "_model_module": "@jupyter-widgets/controls",
      "_model_module_version": "1.5.0",
      "_model_name": "ProgressStyleModel",
      "_view_count": null,
      "_view_module": "@jupyter-widgets/base",
      "_view_module_version": "1.2.0",
      "_view_name": "StyleView",
      "bar_color": null,
      "description_width": "initial"
     }
    }
   }
  }
 },
 "nbformat": 4,
 "nbformat_minor": 1
}
