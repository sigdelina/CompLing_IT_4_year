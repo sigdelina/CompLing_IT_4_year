{
 "cells": [
  {
   "cell_type": "markdown",
   "metadata": {},
   "source": [
    "В качестве домашнего задания мы предлагаем вам решить задачу бинарной классификации на большом корпусе imdb рецензий на фильмы. \n",
    "Корпус можно скачать по ссылке http://ai.stanford.edu/~amaas/data/sentiment/\n",
    "\n",
    "\n",
    "1. Ваша задача в sklearn, используя один из алгоритмов, рассмотренных на паре, построить и обучить классификатор, посчитать метрики качества, построить ROC кривую и посчитайте величину ROC AUC.  - **4 балла**\n",
    "\n",
    "\n",
    "2. Используя предсказания вероятностей класса, найдите 15 самых негативных и самых позитивных рецензий по мнению модели.  - **3 балла**\n",
    "\n",
    "\n",
    "3. Написать свои функции, которые бы считали tp, fp, tn, fn, и возвращали точность, полноту и ф-меру и применить их к результатам, полученным вашими классификаторами (если все сделано правильно, то результаты должны совпадать с полученными  sklearn метриками). - **3 балла**\n",
    "\n",
    "Дедлайн - 11 октября 23:59\n"
   ]
  },
  {
   "cell_type": "markdown",
   "metadata": {},
   "source": [
    "### Создание датасета"
   ]
  },
  {
   "cell_type": "code",
   "execution_count": 1,
   "metadata": {},
   "outputs": [],
   "source": [
    "import os\n",
    "import re\n",
    "import pandas as pd"
   ]
  },
  {
   "cell_type": "code",
   "execution_count": 2,
   "metadata": {},
   "outputs": [],
   "source": [
    "tr_pos = []\n",
    "tr_neg = []\n",
    "tr_else = []\n",
    "\n",
    "\n",
    "def read_files(filename, source):\n",
    "    with open(filename, \"r\", encoding='utf-8') as file:\n",
    "        content = file.read()\n",
    "        source.append(content)\n",
    "        \n",
    "\n",
    "for dirpath, dirnames, filenames in os.walk(\".\"):\n",
    "    if dirpath == './aclImdb/train/pos':\n",
    "        for filename in filenames:\n",
    "            read_files(os.path.join(dirpath, filename), tr_pos)\n",
    "    if dirpath == './aclImdb/train/neg':\n",
    "        for filename in filenames:\n",
    "            read_files(os.path.join(dirpath, filename), tr_neg)\n",
    "    if dirpath == './aclImdb/train/unsup':\n",
    "        for filename in filenames:\n",
    "            read_files(os.path.join(dirpath, filename), tr_else)"
   ]
  },
  {
   "cell_type": "code",
   "execution_count": 3,
   "metadata": {},
   "outputs": [],
   "source": [
    "tr_pos_df = pd.DataFrame(tr_pos, columns=['text'])\n",
    "tr_pos_df['sourse'] = 'pos'\n",
    "\n",
    "tr_neg_df = pd.DataFrame(tr_neg, columns=['text'])\n",
    "tr_neg_df['sourse'] = 'neg'\n",
    "\n",
    "\n",
    "# задача бинарной классификации --> игнорируем, т. к. тут без метки\n",
    "\n",
    "oth_df = pd.DataFrame(tr_else, columns=['text'])\n",
    "oth_df['sourse'] = 'unsup'"
   ]
  },
  {
   "cell_type": "code",
   "execution_count": 4,
   "metadata": {},
   "outputs": [],
   "source": [
    "te_pos = []\n",
    "te_neg = []\n",
    "\n",
    "\n",
    "for dirpath, dirnames, filenames in os.walk(\".\"):\n",
    "    if dirpath == './aclImdb/test/pos':\n",
    "        for filename in filenames:\n",
    "            read_files(os.path.join(dirpath, filename), te_pos)\n",
    "    if dirpath == './aclImdb/test/neg':\n",
    "        for filename in filenames:\n",
    "            read_files(os.path.join(dirpath, filename), te_neg)"
   ]
  },
  {
   "cell_type": "code",
   "execution_count": 5,
   "metadata": {},
   "outputs": [],
   "source": [
    "te_pos_df = pd.DataFrame(te_pos, columns=['text'])\n",
    "te_pos_df['sourse'] = 'pos'\n",
    "\n",
    "te_neg_df = pd.DataFrame(te_neg, columns=['text'])\n",
    "te_neg_df['sourse'] = 'neg'"
   ]
  },
  {
   "cell_type": "code",
   "execution_count": 6,
   "metadata": {},
   "outputs": [],
   "source": [
    "train = pd.concat([tr_pos_df, tr_neg_df], ignore_index=True)"
   ]
  },
  {
   "cell_type": "code",
   "execution_count": 7,
   "metadata": {},
   "outputs": [
    {
     "data": {
      "text/html": [
       "<div>\n",
       "<style scoped>\n",
       "    .dataframe tbody tr th:only-of-type {\n",
       "        vertical-align: middle;\n",
       "    }\n",
       "\n",
       "    .dataframe tbody tr th {\n",
       "        vertical-align: top;\n",
       "    }\n",
       "\n",
       "    .dataframe thead th {\n",
       "        text-align: right;\n",
       "    }\n",
       "</style>\n",
       "<table border=\"1\" class=\"dataframe\">\n",
       "  <thead>\n",
       "    <tr style=\"text-align: right;\">\n",
       "      <th></th>\n",
       "      <th>text</th>\n",
       "      <th>sourse</th>\n",
       "    </tr>\n",
       "  </thead>\n",
       "  <tbody>\n",
       "    <tr>\n",
       "      <th>0</th>\n",
       "      <td>For a movie that gets no respect there sure ar...</td>\n",
       "      <td>pos</td>\n",
       "    </tr>\n",
       "    <tr>\n",
       "      <th>1</th>\n",
       "      <td>Bizarre horror movie filled with famous faces ...</td>\n",
       "      <td>pos</td>\n",
       "    </tr>\n",
       "    <tr>\n",
       "      <th>2</th>\n",
       "      <td>A solid, if unremarkable film. Matthau, as Ein...</td>\n",
       "      <td>pos</td>\n",
       "    </tr>\n",
       "    <tr>\n",
       "      <th>3</th>\n",
       "      <td>It's a strange feeling to sit alone in a theat...</td>\n",
       "      <td>pos</td>\n",
       "    </tr>\n",
       "    <tr>\n",
       "      <th>4</th>\n",
       "      <td>You probably all already know this by now, but...</td>\n",
       "      <td>pos</td>\n",
       "    </tr>\n",
       "  </tbody>\n",
       "</table>\n",
       "</div>"
      ],
      "text/plain": [
       "                                                text sourse\n",
       "0  For a movie that gets no respect there sure ar...    pos\n",
       "1  Bizarre horror movie filled with famous faces ...    pos\n",
       "2  A solid, if unremarkable film. Matthau, as Ein...    pos\n",
       "3  It's a strange feeling to sit alone in a theat...    pos\n",
       "4  You probably all already know this by now, but...    pos"
      ]
     },
     "execution_count": 7,
     "metadata": {},
     "output_type": "execute_result"
    }
   ],
   "source": [
    "train.head()"
   ]
  },
  {
   "cell_type": "code",
   "execution_count": 8,
   "metadata": {},
   "outputs": [
    {
     "data": {
      "text/plain": [
       "pos    12500\n",
       "neg    12500\n",
       "Name: sourse, dtype: int64"
      ]
     },
     "execution_count": 8,
     "metadata": {},
     "output_type": "execute_result"
    }
   ],
   "source": [
    "train['sourse'].value_counts()"
   ]
  },
  {
   "cell_type": "code",
   "execution_count": 9,
   "metadata": {},
   "outputs": [],
   "source": [
    "test = pd.concat([te_pos_df, te_neg_df], ignore_index=True)"
   ]
  },
  {
   "cell_type": "code",
   "execution_count": 10,
   "metadata": {},
   "outputs": [
    {
     "data": {
      "text/html": [
       "<div>\n",
       "<style scoped>\n",
       "    .dataframe tbody tr th:only-of-type {\n",
       "        vertical-align: middle;\n",
       "    }\n",
       "\n",
       "    .dataframe tbody tr th {\n",
       "        vertical-align: top;\n",
       "    }\n",
       "\n",
       "    .dataframe thead th {\n",
       "        text-align: right;\n",
       "    }\n",
       "</style>\n",
       "<table border=\"1\" class=\"dataframe\">\n",
       "  <thead>\n",
       "    <tr style=\"text-align: right;\">\n",
       "      <th></th>\n",
       "      <th>text</th>\n",
       "      <th>sourse</th>\n",
       "    </tr>\n",
       "  </thead>\n",
       "  <tbody>\n",
       "    <tr>\n",
       "      <th>0</th>\n",
       "      <td>Based on an actual story, John Boorman shows t...</td>\n",
       "      <td>pos</td>\n",
       "    </tr>\n",
       "    <tr>\n",
       "      <th>1</th>\n",
       "      <td>This is a gem. As a Film Four production - the...</td>\n",
       "      <td>pos</td>\n",
       "    </tr>\n",
       "    <tr>\n",
       "      <th>2</th>\n",
       "      <td>I really like this show. It has drama, romance...</td>\n",
       "      <td>pos</td>\n",
       "    </tr>\n",
       "    <tr>\n",
       "      <th>3</th>\n",
       "      <td>This is the best 3-D experience Disney has at ...</td>\n",
       "      <td>pos</td>\n",
       "    </tr>\n",
       "    <tr>\n",
       "      <th>4</th>\n",
       "      <td>Of the Korean movies I've seen, only three had...</td>\n",
       "      <td>pos</td>\n",
       "    </tr>\n",
       "  </tbody>\n",
       "</table>\n",
       "</div>"
      ],
      "text/plain": [
       "                                                text sourse\n",
       "0  Based on an actual story, John Boorman shows t...    pos\n",
       "1  This is a gem. As a Film Four production - the...    pos\n",
       "2  I really like this show. It has drama, romance...    pos\n",
       "3  This is the best 3-D experience Disney has at ...    pos\n",
       "4  Of the Korean movies I've seen, only three had...    pos"
      ]
     },
     "execution_count": 10,
     "metadata": {},
     "output_type": "execute_result"
    }
   ],
   "source": [
    "test.head()"
   ]
  },
  {
   "cell_type": "code",
   "execution_count": 11,
   "metadata": {},
   "outputs": [
    {
     "data": {
      "text/plain": [
       "pos    12500\n",
       "neg    12500\n",
       "Name: sourse, dtype: int64"
      ]
     },
     "execution_count": 11,
     "metadata": {},
     "output_type": "execute_result"
    }
   ],
   "source": [
    "test['sourse'].value_counts()"
   ]
  },
  {
   "cell_type": "markdown",
   "metadata": {},
   "source": [
    "### Классификатор"
   ]
  },
  {
   "cell_type": "code",
   "execution_count": 12,
   "metadata": {},
   "outputs": [],
   "source": [
    "from sklearn.linear_model import LogisticRegression\n",
    "from sklearn.metrics import f1_score, classification_report, accuracy_score"
   ]
  },
  {
   "cell_type": "code",
   "execution_count": 13,
   "metadata": {},
   "outputs": [],
   "source": [
    "from sklearn.feature_extraction.text import CountVectorizer, TfidfVectorizer"
   ]
  },
  {
   "cell_type": "code",
   "execution_count": 14,
   "metadata": {},
   "outputs": [],
   "source": [
    "new_ind = []\n",
    "\n",
    "for index, row in train.iterrows():\n",
    "    s = row.sourse\n",
    "    if s == 'pos':\n",
    "        ind = 1\n",
    "        new_ind.append(ind)\n",
    "    else:\n",
    "        ind = 0\n",
    "        new_ind.append(ind)"
   ]
  },
  {
   "cell_type": "code",
   "execution_count": 15,
   "metadata": {},
   "outputs": [],
   "source": [
    "train['bin_class'] = new_ind"
   ]
  },
  {
   "cell_type": "code",
   "execution_count": 16,
   "metadata": {},
   "outputs": [
    {
     "data": {
      "text/html": [
       "<div>\n",
       "<style scoped>\n",
       "    .dataframe tbody tr th:only-of-type {\n",
       "        vertical-align: middle;\n",
       "    }\n",
       "\n",
       "    .dataframe tbody tr th {\n",
       "        vertical-align: top;\n",
       "    }\n",
       "\n",
       "    .dataframe thead th {\n",
       "        text-align: right;\n",
       "    }\n",
       "</style>\n",
       "<table border=\"1\" class=\"dataframe\">\n",
       "  <thead>\n",
       "    <tr style=\"text-align: right;\">\n",
       "      <th></th>\n",
       "      <th>text</th>\n",
       "      <th>sourse</th>\n",
       "      <th>bin_class</th>\n",
       "    </tr>\n",
       "  </thead>\n",
       "  <tbody>\n",
       "    <tr>\n",
       "      <th>0</th>\n",
       "      <td>For a movie that gets no respect there sure ar...</td>\n",
       "      <td>pos</td>\n",
       "      <td>1</td>\n",
       "    </tr>\n",
       "    <tr>\n",
       "      <th>1</th>\n",
       "      <td>Bizarre horror movie filled with famous faces ...</td>\n",
       "      <td>pos</td>\n",
       "      <td>1</td>\n",
       "    </tr>\n",
       "    <tr>\n",
       "      <th>2</th>\n",
       "      <td>A solid, if unremarkable film. Matthau, as Ein...</td>\n",
       "      <td>pos</td>\n",
       "      <td>1</td>\n",
       "    </tr>\n",
       "    <tr>\n",
       "      <th>3</th>\n",
       "      <td>It's a strange feeling to sit alone in a theat...</td>\n",
       "      <td>pos</td>\n",
       "      <td>1</td>\n",
       "    </tr>\n",
       "    <tr>\n",
       "      <th>4</th>\n",
       "      <td>You probably all already know this by now, but...</td>\n",
       "      <td>pos</td>\n",
       "      <td>1</td>\n",
       "    </tr>\n",
       "  </tbody>\n",
       "</table>\n",
       "</div>"
      ],
      "text/plain": [
       "                                                text sourse  bin_class\n",
       "0  For a movie that gets no respect there sure ar...    pos          1\n",
       "1  Bizarre horror movie filled with famous faces ...    pos          1\n",
       "2  A solid, if unremarkable film. Matthau, as Ein...    pos          1\n",
       "3  It's a strange feeling to sit alone in a theat...    pos          1\n",
       "4  You probably all already know this by now, but...    pos          1"
      ]
     },
     "execution_count": 16,
     "metadata": {},
     "output_type": "execute_result"
    }
   ],
   "source": [
    "train.head()"
   ]
  },
  {
   "cell_type": "code",
   "execution_count": 17,
   "metadata": {},
   "outputs": [],
   "source": [
    "new_ind_test = []\n",
    "\n",
    "for index, row in test.iterrows():\n",
    "    s = row.sourse\n",
    "    if s == 'pos':\n",
    "        ind = 1\n",
    "        new_ind_test.append(ind)\n",
    "    else:\n",
    "        ind = 0\n",
    "        new_ind_test.append(ind)"
   ]
  },
  {
   "cell_type": "code",
   "execution_count": 18,
   "metadata": {},
   "outputs": [],
   "source": [
    "test['bin_class'] = new_ind_test"
   ]
  },
  {
   "cell_type": "code",
   "execution_count": 19,
   "metadata": {},
   "outputs": [
    {
     "data": {
      "text/html": [
       "<div>\n",
       "<style scoped>\n",
       "    .dataframe tbody tr th:only-of-type {\n",
       "        vertical-align: middle;\n",
       "    }\n",
       "\n",
       "    .dataframe tbody tr th {\n",
       "        vertical-align: top;\n",
       "    }\n",
       "\n",
       "    .dataframe thead th {\n",
       "        text-align: right;\n",
       "    }\n",
       "</style>\n",
       "<table border=\"1\" class=\"dataframe\">\n",
       "  <thead>\n",
       "    <tr style=\"text-align: right;\">\n",
       "      <th></th>\n",
       "      <th>text</th>\n",
       "      <th>sourse</th>\n",
       "      <th>bin_class</th>\n",
       "    </tr>\n",
       "  </thead>\n",
       "  <tbody>\n",
       "    <tr>\n",
       "      <th>0</th>\n",
       "      <td>Based on an actual story, John Boorman shows t...</td>\n",
       "      <td>pos</td>\n",
       "      <td>1</td>\n",
       "    </tr>\n",
       "    <tr>\n",
       "      <th>1</th>\n",
       "      <td>This is a gem. As a Film Four production - the...</td>\n",
       "      <td>pos</td>\n",
       "      <td>1</td>\n",
       "    </tr>\n",
       "    <tr>\n",
       "      <th>2</th>\n",
       "      <td>I really like this show. It has drama, romance...</td>\n",
       "      <td>pos</td>\n",
       "      <td>1</td>\n",
       "    </tr>\n",
       "    <tr>\n",
       "      <th>3</th>\n",
       "      <td>This is the best 3-D experience Disney has at ...</td>\n",
       "      <td>pos</td>\n",
       "      <td>1</td>\n",
       "    </tr>\n",
       "    <tr>\n",
       "      <th>4</th>\n",
       "      <td>Of the Korean movies I've seen, only three had...</td>\n",
       "      <td>pos</td>\n",
       "      <td>1</td>\n",
       "    </tr>\n",
       "  </tbody>\n",
       "</table>\n",
       "</div>"
      ],
      "text/plain": [
       "                                                text sourse  bin_class\n",
       "0  Based on an actual story, John Boorman shows t...    pos          1\n",
       "1  This is a gem. As a Film Four production - the...    pos          1\n",
       "2  I really like this show. It has drama, romance...    pos          1\n",
       "3  This is the best 3-D experience Disney has at ...    pos          1\n",
       "4  Of the Korean movies I've seen, only three had...    pos          1"
      ]
     },
     "execution_count": 19,
     "metadata": {},
     "output_type": "execute_result"
    }
   ],
   "source": [
    "test.head()"
   ]
  },
  {
   "cell_type": "markdown",
   "metadata": {},
   "source": [
    "#### tf-idf + логистическая регрессия"
   ]
  },
  {
   "cell_type": "code",
   "execution_count": 20,
   "metadata": {},
   "outputs": [],
   "source": [
    "# делаем tf-idf векторизацию для теста и трейна\n",
    "\n",
    "tfidf_vectorizer = TfidfVectorizer()\n",
    "X_train_tfidf = tfidf_vectorizer.fit_transform(train.text)\n",
    "X_test_tfidf = tfidf_vectorizer.transform(test.text)\n",
    "X_train = X_train_tfidf\n",
    "X_test = X_test_tfidf"
   ]
  },
  {
   "cell_type": "code",
   "execution_count": 21,
   "metadata": {},
   "outputs": [
    {
     "name": "stderr",
     "output_type": "stream",
     "text": [
      "/Users/macbook/anaconda3/lib/python3.6/site-packages/sklearn/linear_model/logistic.py:432: FutureWarning: Default solver will be changed to 'lbfgs' in 0.22. Specify a solver to silence this warning.\n",
      "  FutureWarning)\n"
     ]
    }
   ],
   "source": [
    "# построение и обучение классификатора\n",
    "\n",
    "model = LogisticRegression().fit(\n",
    "    X_train, train.bin_class)\n",
    "\n",
    "y_pred = model.predict(X_test)"
   ]
  },
  {
   "cell_type": "code",
   "execution_count": 22,
   "metadata": {},
   "outputs": [
    {
     "name": "stdout",
     "output_type": "stream",
     "text": [
      "              precision    recall  f1-score   support\n",
      "\n",
      "           0       0.88      0.88      0.88     12500\n",
      "           1       0.88      0.88      0.88     12500\n",
      "\n",
      "    accuracy                           0.88     25000\n",
      "   macro avg       0.88      0.88      0.88     25000\n",
      "weighted avg       0.88      0.88      0.88     25000\n",
      "\n",
      "Accuracy: 0.88312\n"
     ]
    }
   ],
   "source": [
    "print(classification_report(test.bin_class, y_pred))\n",
    "\n",
    "print(f'Accuracy: {accuracy_score(test.bin_class, y_pred)}')"
   ]
  },
  {
   "cell_type": "code",
   "execution_count": 23,
   "metadata": {},
   "outputs": [],
   "source": [
    "from sklearn.metrics import precision_score\n",
    "from sklearn.metrics import recall_score"
   ]
  },
  {
   "cell_type": "code",
   "execution_count": 24,
   "metadata": {},
   "outputs": [],
   "source": [
    "acc = accuracy_score(test.bin_class, y_pred)\n",
    "rcall = recall_score(test.bin_class, y_pred)\n",
    "prc = precision_score(test.bin_class, y_pred)\n",
    "f_1 = f1_score(test.bin_class, y_pred)\n",
    "\n",
    "\n",
    "\n",
    "# в семинаре еще были micro и macro,\n",
    "# но у нас задача бинарной классификации,\n",
    "# поэтому я решила не использовать это\n",
    "# и ограничиться стандарнтными метриками"
   ]
  },
  {
   "cell_type": "markdown",
   "metadata": {},
   "source": [
    "Вывод метрик: "
   ]
  },
  {
   "cell_type": "code",
   "execution_count": 25,
   "metadata": {},
   "outputs": [
    {
     "name": "stdout",
     "output_type": "stream",
     "text": [
      "acc=0.8831\n",
      "recall=0.8818\n",
      "precision=0.8841\n",
      "F_1 score=0.8830\n"
     ]
    }
   ],
   "source": [
    "print('acc={0:1.4f}'.format(acc))\n",
    "print('recall={0:1.4f}'.format(rcall))\n",
    "print('precision={0:1.4f}'.format(prc))\n",
    "print('F_1 score={0:1.4f}'.format(f_1))"
   ]
  },
  {
   "cell_type": "markdown",
   "metadata": {},
   "source": [
    "#### pipeline countvectorizer + tf-idf + логистическая регрессия. \n",
    "\n",
    "\n",
    "Можно и так, но мне не очень понравился такой вариант, потому что точность заметно ниже, чем просто на tf-idf + логистическая регрессия. Но такой вариант я пробовала тоже, поэтому оставляю его в этой тетрадке, но дальше анализировать (в оставльных заданиях) его не буду (приведу просто для сравнения метрик)."
   ]
  },
  {
   "cell_type": "code",
   "execution_count": 26,
   "metadata": {},
   "outputs": [],
   "source": [
    "from sklearn.pipeline import Pipeline\n",
    "from sklearn.feature_extraction.text import TfidfTransformer\n",
    "\n",
    "text_clf = Pipeline([('vect', CountVectorizer(ngram_range = (2, 3))), \n",
    "                     ('tfidf', TfidfTransformer()), \n",
    "                     ('clf', LogisticRegression())])"
   ]
  },
  {
   "cell_type": "code",
   "execution_count": 27,
   "metadata": {},
   "outputs": [
    {
     "name": "stderr",
     "output_type": "stream",
     "text": [
      "/Users/macbook/anaconda3/lib/python3.6/site-packages/sklearn/linear_model/logistic.py:432: FutureWarning: Default solver will be changed to 'lbfgs' in 0.22. Specify a solver to silence this warning.\n",
      "  FutureWarning)\n"
     ]
    }
   ],
   "source": [
    "text_clf.fit(train.text, train.bin_class)  \n",
    "predicted = text_clf.predict(test.text)"
   ]
  },
  {
   "cell_type": "code",
   "execution_count": 28,
   "metadata": {},
   "outputs": [
    {
     "name": "stdout",
     "output_type": "stream",
     "text": [
      "              precision    recall  f1-score   support\n",
      "\n",
      "           0       0.87      0.86      0.86     12500\n",
      "           1       0.86      0.87      0.87     12500\n",
      "\n",
      "    accuracy                           0.86     25000\n",
      "   macro avg       0.86      0.86      0.86     25000\n",
      "weighted avg       0.86      0.86      0.86     25000\n",
      "\n",
      "Accuracy: 0.86408\n"
     ]
    }
   ],
   "source": [
    "print(classification_report(test.bin_class, predicted))\n",
    "\n",
    "print(f'Accuracy: {accuracy_score(test.bin_class, predicted)}')"
   ]
  },
  {
   "cell_type": "code",
   "execution_count": 29,
   "metadata": {},
   "outputs": [
    {
     "name": "stdout",
     "output_type": "stream",
     "text": [
      "acc=0.8641\n",
      "recall=0.8712\n",
      "precision=0.8590\n",
      "F_1 score=0.8650\n"
     ]
    }
   ],
   "source": [
    "acc_1 = accuracy_score(test.bin_class, predicted)\n",
    "rcall_1 = recall_score(test.bin_class, predicted)\n",
    "prc_1 = precision_score(test.bin_class, predicted)\n",
    "f_1_2 = f1_score(test.bin_class, predicted)\n",
    "print('acc={0:1.4f}'.format(acc_1))\n",
    "print('recall={0:1.4f}'.format(rcall_1))\n",
    "print('precision={0:1.4f}'.format(prc_1))\n",
    "print('F_1 score={0:1.4f}'.format(f_1_2))"
   ]
  },
  {
   "cell_type": "markdown",
   "metadata": {},
   "source": [
    "#### ROC"
   ]
  },
  {
   "cell_type": "code",
   "execution_count": 30,
   "metadata": {},
   "outputs": [],
   "source": [
    "import numpy as np\n",
    "from sklearn.metrics import roc_auc_score, roc_curve\n",
    "from matplotlib import pyplot"
   ]
  },
  {
   "cell_type": "code",
   "execution_count": 31,
   "metadata": {},
   "outputs": [
    {
     "data": {
      "image/png": "[encoded data removed]",
      "text/plain": [
       "<Figure size 432x288 with 1 Axes>"
      ]
     },
     "metadata": {},
     "output_type": "display_data"
    }
   ],
   "source": [
    "# ROC-кривая\n",
    "\n",
    "y_true = np.array(test.bin_class)\n",
    "y_predicted = np.array(y_pred)\n",
    "fpr, tpr, thrhld = roc_curve(y_true, y_predicted)\n",
    "pyplot.plot(fpr, tpr, marker='.', label='Test')\n",
    "\n",
    "# axis labels\n",
    "pyplot.xlabel('False Positive Rate')\n",
    "pyplot.ylabel('True Positive Rate')\n",
    "\n",
    "# show the legend\n",
    "pyplot.legend()\n",
    "\n",
    "# show the plot\n",
    "pyplot.show()"
   ]
  },
  {
   "cell_type": "code",
   "execution_count": 32,
   "metadata": {},
   "outputs": [
    {
     "name": "stdout",
     "output_type": "stream",
     "text": [
      "ROC-AUC:  0.8831199999999999\n"
     ]
    }
   ],
   "source": [
    "print('ROC-AUC: ',\n",
    "      roc_auc_score(y_true, y_predicted))"
   ]
  },
  {
   "cell_type": "markdown",
   "metadata": {},
   "source": [
    "### Самые позитиные и самые негативные рецензии"
   ]
  },
  {
   "cell_type": "code",
   "execution_count": 33,
   "metadata": {},
   "outputs": [],
   "source": [
    "# предсказываем для каждого класса: 0/1\n",
    "\n",
    "top = model.predict_proba(X_test)"
   ]
  },
  {
   "cell_type": "code",
   "execution_count": 34,
   "metadata": {},
   "outputs": [
    {
     "data": {
      "text/plain": [
       "array([[0.45095969, 0.54904031],\n",
       "       [0.27281965, 0.72718035],\n",
       "       [0.47527185, 0.52472815],\n",
       "       ...,\n",
       "       [0.64497376, 0.35502624],\n",
       "       [0.60355447, 0.39644553],\n",
       "       [0.62888154, 0.37111846]])"
      ]
     },
     "execution_count": 34,
     "metadata": {},
     "output_type": "execute_result"
    }
   ],
   "source": [
    "top"
   ]
  },
  {
   "cell_type": "code",
   "execution_count": 35,
   "metadata": {},
   "outputs": [],
   "source": [
    "top_0 = []  # значения класса 0\n",
    "top_1 = []  # значения класса 1\n",
    "\n",
    "for el in list(top):\n",
    "    top_0.append(el[0])\n",
    "    top_1.append(el[1])"
   ]
  },
  {
   "cell_type": "code",
   "execution_count": 36,
   "metadata": {},
   "outputs": [],
   "source": [
    "test['top_0'] = list(top_0)\n",
    "test['top_1'] = list(top_1)"
   ]
  },
  {
   "cell_type": "code",
   "execution_count": 37,
   "metadata": {},
   "outputs": [
    {
     "data": {
      "text/html": [
       "<div>\n",
       "<style scoped>\n",
       "    .dataframe tbody tr th:only-of-type {\n",
       "        vertical-align: middle;\n",
       "    }\n",
       "\n",
       "    .dataframe tbody tr th {\n",
       "        vertical-align: top;\n",
       "    }\n",
       "\n",
       "    .dataframe thead th {\n",
       "        text-align: right;\n",
       "    }\n",
       "</style>\n",
       "<table border=\"1\" class=\"dataframe\">\n",
       "  <thead>\n",
       "    <tr style=\"text-align: right;\">\n",
       "      <th></th>\n",
       "      <th>text</th>\n",
       "      <th>sourse</th>\n",
       "      <th>bin_class</th>\n",
       "      <th>top_0</th>\n",
       "      <th>top_1</th>\n",
       "    </tr>\n",
       "  </thead>\n",
       "  <tbody>\n",
       "    <tr>\n",
       "      <th>0</th>\n",
       "      <td>Based on an actual story, John Boorman shows t...</td>\n",
       "      <td>pos</td>\n",
       "      <td>1</td>\n",
       "      <td>0.450960</td>\n",
       "      <td>0.549040</td>\n",
       "    </tr>\n",
       "    <tr>\n",
       "      <th>1</th>\n",
       "      <td>This is a gem. As a Film Four production - the...</td>\n",
       "      <td>pos</td>\n",
       "      <td>1</td>\n",
       "      <td>0.272820</td>\n",
       "      <td>0.727180</td>\n",
       "    </tr>\n",
       "    <tr>\n",
       "      <th>2</th>\n",
       "      <td>I really like this show. It has drama, romance...</td>\n",
       "      <td>pos</td>\n",
       "      <td>1</td>\n",
       "      <td>0.475272</td>\n",
       "      <td>0.524728</td>\n",
       "    </tr>\n",
       "    <tr>\n",
       "      <th>3</th>\n",
       "      <td>This is the best 3-D experience Disney has at ...</td>\n",
       "      <td>pos</td>\n",
       "      <td>1</td>\n",
       "      <td>0.301777</td>\n",
       "      <td>0.698223</td>\n",
       "    </tr>\n",
       "    <tr>\n",
       "      <th>4</th>\n",
       "      <td>Of the Korean movies I've seen, only three had...</td>\n",
       "      <td>pos</td>\n",
       "      <td>1</td>\n",
       "      <td>0.220779</td>\n",
       "      <td>0.779221</td>\n",
       "    </tr>\n",
       "  </tbody>\n",
       "</table>\n",
       "</div>"
      ],
      "text/plain": [
       "                                                text sourse  bin_class  \\\n",
       "0  Based on an actual story, John Boorman shows t...    pos          1   \n",
       "1  This is a gem. As a Film Four production - the...    pos          1   \n",
       "2  I really like this show. It has drama, romance...    pos          1   \n",
       "3  This is the best 3-D experience Disney has at ...    pos          1   \n",
       "4  Of the Korean movies I've seen, only three had...    pos          1   \n",
       "\n",
       "      top_0     top_1  \n",
       "0  0.450960  0.549040  \n",
       "1  0.272820  0.727180  \n",
       "2  0.475272  0.524728  \n",
       "3  0.301777  0.698223  \n",
       "4  0.220779  0.779221  "
      ]
     },
     "execution_count": 37,
     "metadata": {},
     "output_type": "execute_result"
    }
   ],
   "source": [
    "test.head()"
   ]
  },
  {
   "cell_type": "code",
   "execution_count": 38,
   "metadata": {},
   "outputs": [],
   "source": [
    "test_top_0 = test.sort_values(['top_0'], ascending=[False])\n",
    "test_top_1 = test.sort_values(['top_1'], ascending=[False])"
   ]
  },
  {
   "cell_type": "code",
   "execution_count": 39,
   "metadata": {},
   "outputs": [],
   "source": [
    "texts_neg = test_top_0.head(15).text.tolist()\n",
    "texts_pos = test_top_1.head(15).text.tolist()"
   ]
  },
  {
   "cell_type": "code",
   "execution_count": 40,
   "metadata": {},
   "outputs": [
    {
     "name": "stdout",
     "output_type": "stream",
     "text": [
      "ТОП-15 негативных рецензий: \n",
      "\n",
      "---------\n",
      "\n",
      "1 This was truly horrible. Bad acting, bad writing, bad effects, bad scripting, bad camera shots, bad filming, bad characters, bad music, bad editing, bad casting, bad storyline, bad ... well, you get the idea. It was just, just ... what's the word? Oh yeah ... BAD! \n",
      "\n",
      "2 As you can tell from the other comments, this movie is just about the WORST film ever made. Let me see how many different words I can use to describe it: Boring, Unbearable, Laughable, Lousy, Stupid, Horrible.....<br /><br />I could go on with such descriptions but you probably get the point.<br /><br />I would have given this a 0, if possible--bad acting, bad directing, bad production, bad plot.<br /><br />This was made in 2001 and it looks more like 1965. Very low budget, boring plot, horrible acting, really bad special effects, etc...<br /><br />I rarely ever see a Sci-Fi film I absolutely think is this bad. I mean this is pure garbage. It has nothing going for it either. As far as a \"B-movie\" this is the very bottom of the lot.<br /><br />I think I would be more entertained by staring at a blank piece of paper for 90 minutes. Junk like this gives good low-budget \"B\" movies a bad name. This makes Ed Wood movies look good.<br /><br />The thing about watching direct-to-video movies is, just when you think you've seen the worst, you see something even worse!<br /><br />DJ Perry is a horrible actor and has no individual characteristics that make him stand out.<br /><br />Avoid this waste at all costs! Oh the humanity! \n",
      "\n",
      "3 This is just the same old crap that is spewed from amateur idiots who have no clue how to make a movie--gee maybe that's why it is a straight-to-video wanna-be movie!<br /><br />I guess it is my fault for actually spending money to see it (one of the worst decisions I have ever made). What a waste. I usually like B movies, some of them are actually quite good--but this is just too ridiculous and stupid to even be funny.<br /><br />The losers that made this junk deserve to be put out of business for wasting everyone's time and money making a movie that obviously doesn't even deserve to be on film! These so-called movie makers have absolutely NO talent!<br /><br />Stupid plot, horrible acting (especially the drag queens--what sicko would actually find that sexy?!), lame writing (if there even was a script--seems like the kinda bull**** someone just made up on the spot)<br /><br />What is stunning about this movie is its utter lack of anything well-done at all.<br /><br />How much attention to detail would it take to insure that every frame of a film would be so far below any reasonable standards? I don't think it would be possible to make such a bad movie intentionally, and it is inconceivable that sheer bad luck could produce such consistently awful results.<br /><br />Anyway, avoid this stink bomb at all costs!!!!!!!!!!!!!!!! \n",
      "\n",
      "4 I rented this movie today... worst movie EVER. It was a total waste of time and a horrible story. The acting was horrible, especially by the actress of \"Sai\". She was so bad it was ridiculous. I can't tell if it was her bad acting or because the character was just that stupid in the first place. I can't even get my mind wrapped around just how awful and pointless this whole movie was. I'm surprised someone even thought it was a good idea to FILM this movie and bother to release it.<br /><br />If you're looking for a good Vampire/Horror flick.. this is not the movie for you. Move right along! It's a waste of time and money. Heck, I wouldn't even DOWNLOAD this movie if someone PAID me.<br /><br />This movie is so bad it doesn't even deserve a \"1\". I wish I could give it a \"0\"! \n",
      "\n",
      "5 This movie is pathetic in every way possible. Bad acting, horrible script (was there one?), terrible editing, lousy cinematography, cheap humor. Just plain horrible.<br /><br />I had seen 'The Wishmaster' a couple weeks before this movie and I thought it was a dead-ringer for worst movie of the year. Then, I saw 'The Pest' and suddenly 'The Wishmaster' didn't seem so bad at all.<br /><br />Bad Bad Bad. Excruciatingly bad. \n",
      "\n",
      "6 This was a very disappointing movie. I would definitely call this the worst movie of all time.<br /><br />The acting and writing were poor. And the jokes were not funny.<br /><br />I don't see why on earth this piece of crap was even made. I'm not a picky person and I can enjoy stupid things but this is just way too stupid and just plain awful.<br /><br />Avoid this wretched piece of garbage at all costs! \n",
      "\n",
      "7 This movie was a complete waste of time. The soundtrack was bad, story was lame and predictable, and the acting was terrible. One of the worst 25 movies I have ever seen. After the first ten minutes, the rest of the film was completely obvious. \n",
      "\n",
      "8 No idea how this is rated as high as it is (5.8 at the time of writing) but this movie was absolutely horrible. The acting wasn't entirely bad but it really had no point whatsoever and the overall quality was poor. Its obviously a B movie (or a C if such a thing exists) and it looks like it was made over a weekend at a friends house or something. Im all for low budget movies and I generally watch any I come across but this one is really really bad. I mean like \"The Fanglys\" bad. I don't know what else to say but trust in this as I have indeed sat thru this horrible horrible movie and I can save you the effort... Don't bother. Seriously... Just don't. \n",
      "\n",
      "9 For years I hesitated watching this movie. Now, I know why. Not only is it a comedy that fails at being even remotely funny, but there's also just nothing to laugh *at* about the movie. It was even worse than I'd expected. I rented this sucker and still felt cheated out of time more than money. I have never seen a film that annoyed me that much. It is a movie about stupid people that are doing stupid and terrible things. I don't really know either how someone with common sense could actually act in this kind of movie. I have used IMDb for some time but felt obligated to register just to help prevent poor unsuspecting folks from renting or, worse, buying this stinker!! Really a waste of time and money. I must say that the plot line is awful. \n",
      "\n",
      "10 Woa, talk about awful. Do not waste your time. I wish I had seen the other use comments first. <br /><br />I have to admit, I didn't watch the whole thing. It was just too horrible. The worst, sappiest dialogue... I could go on and on. But what really made it unwatchable was the direction. The poor actors. You can't even tell if they have any talent because they not only have pathetic lines to speak but the director gave them no action. If you check the director's filmography on this site you will see why this film didn't have a chance. <br /><br />This would not even be good as a made for TV flick. <br /><br />Ouch! \n",
      "\n",
      "11 Predator Island starts as six friends, Eric (Tom Dahl), Chris (Dan Gordon) along with Heather (Iris McQuillan-Grace), Kim (Iana Baker) & Denise (Melissa Roby) get invited to spend sometime on Kevin's (Michael Wrann) father's boat partying in the open sea. What could go wrong with such a super sounding idea? Well for starters a big green meteorite could crash into the sea near your boat & an alien life-force could emerge from it & try to kill all of you, then again that's just a ridiculously stupid idea, isn't it?<br /><br />Co-edited, written & directed by Steven Castle I thought Predator Island was crap & it's a simple & straight forward as that really. The script is of the worst kind, you know the sort of abomination that's full of highly annoying teenage character's who do & say the most stupid things, it's full of clichés & is utterly predictable, it makes next-to-no sense, things just suddenly happen without any build up or explanation, it's boring even at only 70 odd minutes & it has virtually no entertainment value whatsoever, not even unintentional laugh value. The film doesn't really have much of what I would call a plot, there's no explanation given as to why or how this alien creature can take over people's minds or why it can be selective in the sense that one moment the person will be 'normal' the next, when the story calls for it & with no apparent cause, they suddenly get green glowing eyes & a sudden urge to turn cannibal. There's not enough horror in it, the so-called action scenes are pitiful & I really don't want to waste another second thinking about Predator Island let alone wasting my precious energy typing these words...<br /><br />Director Castle doesn't do anything to make this thing watchable & the 'special effects' are absolutely terrible, this alien creature dude wouldn't even get into a 50's sci-fi film. The filmmakers even play some blooper footage over the end credits but this has to be the least funny collection of mistakes ever, I mean they can't even get it wrong right if you know what I mean! Forget about any decent gore as there isn't any, there's a bit of cannibalism & some intestines placed on the unfortunate actors stomach so another unfortunate actor can pick them up & pretend to eat them.<br /><br />With a supposed budget of about $150,000 I have to concede that the filmmakers were working on a seriously low budget, that's still no excuse for making such a poor film. The whole thing looks very cheap & the acting is pretty bad.<br /><br />Predator Island is crap, I'm sorry but that's the way it is & I just fail to see what anyone would get out of it. In my humble opinion this probably one to avoid. \n",
      "\n",
      "12 I bought this movie sight unseen at a sci-fi convention and I got what I deserved for doing something so silly. Simply put this movie is implausible, boring and unwatchable.<br /><br />I was so bored and disgusted with the lack of plot development that I turned it off to watch a repeat of Mythbusters. I understand that this was a very low budget move, or least it looked like a very low budget move, but that does not excuse the horrible acting, terrible plot and even worse camera work. It looks like something a group of college students did in between classes and getting drunk.<br /><br />Maybe if the villain wasn't so laughable and the plot was something that actually could happen in real life with respect to law enforcement it might become so bad it's funny. This movie isn't funny, it's just bad. \n",
      "\n",
      "13 There are movies that are so bad, they're good. Then there's movies like Rest Stop that should just never have been made because they are just plain dreadful.<br /><br />Bad acting, unlikable characters, predictable plot and a supposedly supernatural twist that adds nothing to the story are all key failures. Some half decent special effects are about the only thing worthy of note. <br /><br />I can't even bring myself to write a plot outline because all I really want to do here is warn you not to waste your time and money on this movie. Do yourself a favour and don't even bother with this film at all. It's 1.5 hours of your life that you will never get back. <br /><br />1/10 \n",
      "\n",
      "14 OK, I would give this a 1, but I'm gonna give it a two because I laughed while watching this film...First of all, I can make a much better movie than this one...in a week...The special effects made this film look like a joke. One shouldn't make such films with horrible special effects because then people won't take it seriously. The acting and direction was also horrible. The screenplay had many plot holes and the whole film wasn't believable at all. This has to be the worst Indian film ever. The songs were also bad. The acting was bad and artificial. Need I say more. Don't watch this movie unless you are curious to see how bad it is. That's why I watched it. I am going into film and I wanted to see how bad a bad film can get. Trust me, I watched one of the worst films in history if not THE worst film. \n",
      "\n",
      "15 This film is in a dead tie with the original for worst film ever made. I think this one may be slightly worse, if anything. SPOILER ALERT!!! Here are these survivors on a ship that's been capsized for a long time. Improbable? No - IMPOSSIBLE. The whole premise is so laughable as to not be funny. There are some pretty big names in the film, and even they couldn't save this sorry thing. I find it truly a waste of good celluloid. After seeing this, I also unfortunately decided that it had been a waste of my time. Don't bother with this one. Or the original for that matter! I gave it a 2, mainly because they throw votes of 1 out. \n",
      "\n"
     ]
    }
   ],
   "source": [
    "print('ТОП-15 негативных рецензий: \\n\\n---------\\n')\n",
    "\n",
    "cnt = 1\n",
    "for el in texts_neg:\n",
    "    print(cnt, el, '\\n')\n",
    "    cnt += 1"
   ]
  },
  {
   "cell_type": "code",
   "execution_count": 41,
   "metadata": {},
   "outputs": [
    {
     "name": "stdout",
     "output_type": "stream",
     "text": [
      "ТОП-15 позитивных рецензий: \n",
      "\n",
      "---------\n",
      "\n",
      "1 What a wonderful film, filled with eccentric, unique characters who are wonderfully realized by a great ensemble cast. The director also did a great job keeping the story held together, getting those wonderful performances (on not messing with them) and using music (and what wonderful music it is) to great effect. S. Epatha in the lead role is great. I had always heard what a brilliant stage actor she is, and although I have enjoyed her on Law and Order, this really shows what she can do with a filled out, complex role. Macy Gray is terrific, Mos Def, as usual, wonderful. Lou Gossett, great. Jimmy Smits, terrific, and doesn't try to pull focus because he's a star. A true piece of ensemble acting. <br /><br />Rent it, enjoy it, groove to it, and treasure it. Something special. \n",
      "\n",
      "2 I think this is one of the best tamil movies i've seen in a while. i love the fact that it doesn't revolve around a guy and girl falling in love and they made the movie brilliantly. The cast did a great job and i especially congratulate the litte girl. She was brilliant and really brought out the feeling of an adopted child searching for her real mother. Best of all are the songs, beautiful music and moving lyrics. There are some great songs in this move ya'll! especially 'Kannathil Mutthamittal' and 'Velai Pookal'. Great songs, both of them. I highly recommend this movie to anyone who wants to enjoy a good cry and some great acting (and superb songs! ). Cheers Simran. \n",
      "\n",
      "3 Wow! Fantastic film in my opinion, i wasn't expecting it to be this good! I was captivated from start to finish- it's a very well made and educational film that really gives us a fascinating insight into the trials Darwin had to go through in order to convey his ideas to the world, chronicling his life as he writes \"Origin of the Species\"; fighting both personal demons as well as the ignorant society of the time in order to do so. He struggles hard with his mind, body and soul as personal matters get to breaking point and even his family seems to slip away...whilst the rest of the world stand against him as he knows that his findings literally shake the very foundations of their lives, culture and meaning of existence. It's a subtle movie (not over-exaggerated in any way in that typical Hollywood way, this is a BBC produced British film) yet thankfully very powerful in meaning and this is thanks to the amazing well directed scenes as well as the superb acting by Bettany. Connelly acts as more of a light supporting role but I did enjoy her in this and she's as good as to be expected as always, her chemistry alongside her husband was definitely strong and endearing, you could feel the connection, and their real-life husband/wife bond definitely shines through their performances. But the star of the show is definitely Bettany and he does a brilliant job, a very touching performance- i both understood and sympathised with him as he battled his own degrading health and impending \"insanity\" to try to understand what he has uncovered and come to terms with what it all really is and means as he found his thinking contradict his feelings, and found himself losing it all including his wife who of course was a firm believer in religion and a strict Christian whilst he was in the realm of science, two worlds which could not see eye to eye, so their relationship was at stake too.<br /><br />Anyway- a really very good, well acted emotional drama and dare I say I did shed a tear during the tragic climax which was truly heartbreaking as well as beautifully poignant and moving. The film is symbolic and very intellectually artistic as well, in fact i can't wait to watch it again as there was a lot to take in first time round which i missed. Easily one of the best films i've seen this year. \n",
      "\n",
      "4 This is definitely an excellent show. I don't have cable, so I started renting them, because my friend recommended it. I thought it would be a teen soap, you know, who's dating who, that kind of thing. But it was not. It is surprisingly deep. It is also very witty. It moves at a very fast pace, and there are more and more jokes you catch every time you watch it. It is a comedy-drama, which is rare when well done. It is about Rory and Lorelai's relationship. Instead of the classic mother-daughter relationship it is a story of the best friend relationship-- about a mother and daughter. The characters are perfectly cast and all do a superb job. It is definitely the best TV show I have very come across. \n",
      "\n",
      "5 I absolutely fell in love with \"Living in A Big Way\" when I first saw it! Reason #1 is because I LOVE, ADORE, and am a HUGE fan of GENE KELLY. He was such a wonderful dancer, actor, and choreographer. Not to mention his extremely handsome looks and his sensual personality. I love his role in this movie. He was such a gentleman. This movie showcased his wonderful talent for acting. I enjoyed Marie MacDonald as well. It was my first time of ever seeing or knowing anything about her, and this excellent movie made me a fan of her's as well. Actually, the whole cast in this movie was enjoyable and great. The humor between the butler,\"Everette Hanover Smythe\", and the father, Mr. Morgan; Mrs. Morgan's courtroom humor, and especially grandmother Morgan's immediate attachment to, and concern for \"LEO GOGARTY.\" And GENE'S number \"FIDO AND ME\" is adorable. The opening dance number with GENE and MARIE is very nice too. I would recommend that anyone see this movie. It will truly remain dear to your heart forever. Or at least it has to mine. And you'll fall in love with GENE all over again. I rate it my #2 favorite GENE KELLY MOVIE, and I've seen and own a quite many of his movies. They're a part of my daily routine! So trust me when I tell you, you'll love this movie! Watch it and enjoy!! \n",
      "\n",
      "6 This movie has it all. Great actors, good dialog, drama, comedy, and excellent writing and directing by Paul Thomas Anderson. I have seen this film several times and enjoy it more each time. It doesn't get old, it is consistently entertaining and stimulating. Easily Burt Reynolds best role, and he does a great job. John C. Reilly and Don Cheadle also give excellent comedic performances. There is not a weak element in this film. \n",
      "\n",
      "7 I was fortunate enough to record this wonderful drama, both parts, when it originally aired on Masterpiece Theatre. I loved it but lost it. Then one day, while going through old tapes, found it again. I recorded it to DVD and watched and --- WOW! I still love it! The leads are excellent and my only complaint is I wish we had seen more Kester! What a man! And Prue. She's so strong and wonderful ... living in a time and age where her affliction and how she deals with it is seen as unfortunate and evil. Even her own brother tells Prue to her face that he doubts that a man will ever have her. *sigh* Unfortunately my copy is not the greatest, with wear and tear over the years, and I too would absolutely love to own this on professional DVD if it ever happens. \n",
      "\n",
      "8 Easily one of my favourite dramatic TV films, in many ways beautiful yet sad, heart-warming and thought-provoking, this is a superb dramatisation of a few years in the life of C.S. Lewis and his relationship with Joy Davidman. I found it to be incredibly absorbing with excellent and 'realistic' dialogue and situations. It all seemed very 'real', yet there were also 'magical' moments that almost leave you breathless with delight. Ackland and Bloom as the central characters were excellent, as were the supporting cast. It's one of those dramas that I find hard to criticise, simply because, for me, there is NOTHING to be criticised, it just works so well on so many levels.<br /><br />Very highly recommended. \n",
      "\n",
      "9 I loved this movie - the actors were wonderful and suited their roles. The story itself was great (and true, the setting was perfect and the message about human response to the war, danger and risk was exceptional. The person who wrote the music score also did the music for Life is Beautiful (another favourite of mine)- his comment was apparently that \"...this was not a like an English movie, it was like an Italian movie.\" I think he's right! Callum Blue is perfect for the part of Eric Newby. I recommend this movie to everyone who wants to watch a story that is true and morally uplifting as well as a beautiful love story. \n",
      "\n",
      "10 This is one of Bruce's most underrated films in my opinion, its an awesome heartwarming film, with a neat story and an amazing performance from Bruce Willis!. All the characters are great, and I thought Willis and Spencer Breslin were just awesome together, plus Bruce Willis is simply amazing in this!. This is definitely one of Bruce's best comedic performances (The waaaaaaaaaamabulance thing was great) and I thought it was very well written and made as well, plus The finale is especially cool!. It's good natured and it was cool how you can see Russell's (Willis) character change throughout the film! plus the ending was pretty good. I think this should be higher then 6.0 and it's one of the best Disney films I have ever seen! plus it has many surprising moments throughout. All the characters are extremely likable, and it also has a cute love story angle too it as well, plus Bruce and Spencer Breslin both had some really funny lines (Holy Smokes!). This is one of Bruce's most underrated films in my opinion, its an awesome heartwarming film, with a neat story and an an amazing performance from Bruce Willis and I say its a must see!. The Direction is great!. Jon Turteltaub does a great job here with really good camera work, and just keeping the film at a very fast pace. The Acting is excellent!. Bruce Willis is amazing as always and is amazing here, he gives one of his best comedic performances, is hilarious had wonderful chemistry with both Spencer Breslin and Emily Mortimer, had some funny lines, and was dead on throughout the movie, he was one of the main reasons I liked this movie so much! (Willis Rules!!!!!!!). Spencer Breslin is fantastic as the younger version of Russell, he was very funny and didn't get on my nerves once, he is one of the better child actors out there!. Emily Mortimer is good as Amy and was really cute I liked her she had decent chemistry with Bruce too. Lily Tomlin is funny as Janet I liked her quite a bit. Jean Smart is good with what she had to do, which was not much. Rest of the cast do fine. Overall a must see!. **** out pf 5 \n",
      "\n",
      "11 This particular film was one that I wanted to see in theaters, but never got around to it. When I finally rented it in the summer of 2001 I enjoyed it so much that I went out and bought the DVD soon after. Bonnie Hunt and Don Lake did a wonderful job with the screenplay and are wonderful to listen to on the audio commentary that is included on the DVD. They did a great job in creating characters that you really care about. I really felt a whirlwind of emotions watching this film including sadness, anxiety and joy. The film also does a great job in showing the importance of family (a rarity in film today), which is a reflection of the director, Bonnie Hunt, based on the comments she made on the DVD. David Duchovny showed me here that there is life beyond Fox Mulder giving a wonderful performance with some pretty poignant scenes. I highly recommend that you give this movie a viewing. I am really thankful to the creators of this film. They have given me a wonderful piece of cinematic viewing that I will recommend to all my friends. I have seen a lot of movies over the years and it is very rare that I come away with such a feeling of satisfaction after watching a film. I will watch this time and time again for years to come. Return to Me reminds me that there are still moviemakers out there that know how to sincerely please their movie audiences. Thanks!! \n",
      "\n",
      "12 This is a great German slasher, that's often quite suspenseful, and creative, with a fun story and solid performances. All the characters are cool, and Benno Fürmann is great as the psycho killer, plus Franka Potente gives a fantastic performance as the main lead. It did take a little while to get going, but it was never boring, and it had some good death scenes as well, plus the music is wonderfully creepy. I was lucky enough to get the subtitled version, instead of the dubbed, and I thought all the characters were quite likable, plus it's very well made and written as well. It has some really good plot twists too, and the effects are extremely well done, plus the ending is great. The finale is especially suspenseful, and Franka Potente was the perfect casting choice in my opinion, plus I wish Arndt Schwering-Sohnrey(David) didn't get killed of so soon, because he was a really cool character. There were actually a couple of moments where I felt uncomfortable but in a good way, and I must say this film deserved all it's praise, plus while it does have plot holes, it's not enough to hamper the film. This is a great German slasher, that's often quite suspenseful, and creative, with a fun story, and solid performances, I highly recommend this one!. The Direction is great!. Stefan Ruzowitzky does a great! Job here with excellent camera work, very good angles, great close ups (see the opening sex scene), doing a great job of adding creepy atmosphere, and just keeping the film at a very fast pace.<br /><br />There is quite a bit of blood and gore. We get cadavers cut open,plenty of very gory surgery scenes,lots of bloody stabbings,people are dissected while still being conscious, severed finger, self mutilation, gutting's, bloody slit throat, lots of wicked looking frozen corpses, plenty of blood and more.<br /><br />The Acting is very solid!. Franka Potente is fantastic as the main lead, she was very likable, remained cool under pressure, was vulnerable, easy on the eyes, and we are able to care for her character, the only time she seemed to suffer, was when she had to spurt out some bad dialog here and there, but that wasn't very often, she was wonderful!. Benno Fürmann is excellent as the psycho killer, he was simply chilling, and wonderfully OTT, he really gave me the creeps, and was one effective killer!. Anna Loos played her role very well, as the smart slut, I dug her. Sebastian Blomberg was great here as Caspar, he was quite likable, and had a mysterious character,his chemistry with Potente was also on, and there was a great twists involving him at the end. Holger Speckhahn was good as the Idiot Phil and did his job well. Traugott Buhre is good as Prof. Grombek. Arndt Schwering-Sohnrey was great as David, he had a really cool character, and I wish he didn't get killed of so soon. Rest of the cast do fine.<br /><br />Overall I highly recommend this great German slasher!. ***1/2 out of 5 \n",
      "\n",
      "13 a very surprisingly underrated movie. very realistic. and authentic .with great Dialogue. being Italian, i can definitely relate to the situations and phrases used. I thought Joe Cortese was great. as a crazy mob cowboy type, and pesci and Vincent were great also. I liked the actor Criscuolo who played the boss. He was very authentic. i think the director Ralph devito was on his way to great things , but was cut down too early , maybe because he knew too much. i thought it was great. it deserved more airplay and recognition. it was a sleeper movie. great. very good. it really had good authenticity. it was well done. \n",
      "\n",
      "14 It's funny how time went by and never saw this movie...'till last week, when i was like under a spell. I saw it twice in a week and it still wasn't enough. It's a great movie and I will love to see it again. The story is great and it really moved me. I would love to live such a story. The actors are great, the music too and you can dream about your own love story. I just hope that someday I will find the opportunity to learn to dance like Johnny and Baby. I feel like dance connects people and brings them together. I think people should learn to dance...it helps a lot, especially in a relationship. It's great to feel the dance in your blood and in your body. \n",
      "\n",
      "15 This show is awesome! I love all the actors! It has great story lines and characters. It is the perfect drama. James Caan and Josh Duhamel have great dialogue. They both can be really funny.I miss Vanessa Marcil on General Hospital, but she's great on here. James Lesure is great! He can be hilarious. Molly Sims plays a dimwit very well. The writing is awesome!They keep up an excellent pace. The show can really leave you hanging, which is one of my favorite elements of a show. I cannot wait until the new season starts. This show makes it to the top ten of all my shows. I hope this show stays on for a really long time. If people know what good is, it will. I never want the show to end. Ever. \n",
      "\n"
     ]
    }
   ],
   "source": [
    "print('ТОП-15 позитивных рецензий: \\n\\n---------\\n')\n",
    "\n",
    "cnt_2 = 1\n",
    "for el in texts_pos:\n",
    "    print(cnt_2, el, '\\n')\n",
    "    cnt_2 += 1"
   ]
  },
  {
   "cell_type": "markdown",
   "metadata": {},
   "source": [
    "### Функции\n",
    "\n",
    "для сравнения был выбран классификатор tf-idf + логистическая регрессия"
   ]
  },
  {
   "cell_type": "code",
   "execution_count": 42,
   "metadata": {},
   "outputs": [],
   "source": [
    "test['prediction'] = list(y_pred)"
   ]
  },
  {
   "cell_type": "code",
   "execution_count": 43,
   "metadata": {},
   "outputs": [
    {
     "data": {
      "text/html": [
       "<div>\n",
       "<style scoped>\n",
       "    .dataframe tbody tr th:only-of-type {\n",
       "        vertical-align: middle;\n",
       "    }\n",
       "\n",
       "    .dataframe tbody tr th {\n",
       "        vertical-align: top;\n",
       "    }\n",
       "\n",
       "    .dataframe thead th {\n",
       "        text-align: right;\n",
       "    }\n",
       "</style>\n",
       "<table border=\"1\" class=\"dataframe\">\n",
       "  <thead>\n",
       "    <tr style=\"text-align: right;\">\n",
       "      <th></th>\n",
       "      <th>text</th>\n",
       "      <th>sourse</th>\n",
       "      <th>bin_class</th>\n",
       "      <th>top_0</th>\n",
       "      <th>top_1</th>\n",
       "      <th>prediction</th>\n",
       "    </tr>\n",
       "  </thead>\n",
       "  <tbody>\n",
       "    <tr>\n",
       "      <th>0</th>\n",
       "      <td>Based on an actual story, John Boorman shows t...</td>\n",
       "      <td>pos</td>\n",
       "      <td>1</td>\n",
       "      <td>0.450960</td>\n",
       "      <td>0.549040</td>\n",
       "      <td>1</td>\n",
       "    </tr>\n",
       "    <tr>\n",
       "      <th>1</th>\n",
       "      <td>This is a gem. As a Film Four production - the...</td>\n",
       "      <td>pos</td>\n",
       "      <td>1</td>\n",
       "      <td>0.272820</td>\n",
       "      <td>0.727180</td>\n",
       "      <td>1</td>\n",
       "    </tr>\n",
       "    <tr>\n",
       "      <th>2</th>\n",
       "      <td>I really like this show. It has drama, romance...</td>\n",
       "      <td>pos</td>\n",
       "      <td>1</td>\n",
       "      <td>0.475272</td>\n",
       "      <td>0.524728</td>\n",
       "      <td>1</td>\n",
       "    </tr>\n",
       "    <tr>\n",
       "      <th>3</th>\n",
       "      <td>This is the best 3-D experience Disney has at ...</td>\n",
       "      <td>pos</td>\n",
       "      <td>1</td>\n",
       "      <td>0.301777</td>\n",
       "      <td>0.698223</td>\n",
       "      <td>1</td>\n",
       "    </tr>\n",
       "    <tr>\n",
       "      <th>4</th>\n",
       "      <td>Of the Korean movies I've seen, only three had...</td>\n",
       "      <td>pos</td>\n",
       "      <td>1</td>\n",
       "      <td>0.220779</td>\n",
       "      <td>0.779221</td>\n",
       "      <td>1</td>\n",
       "    </tr>\n",
       "  </tbody>\n",
       "</table>\n",
       "</div>"
      ],
      "text/plain": [
       "                                                text sourse  bin_class  \\\n",
       "0  Based on an actual story, John Boorman shows t...    pos          1   \n",
       "1  This is a gem. As a Film Four production - the...    pos          1   \n",
       "2  I really like this show. It has drama, romance...    pos          1   \n",
       "3  This is the best 3-D experience Disney has at ...    pos          1   \n",
       "4  Of the Korean movies I've seen, only three had...    pos          1   \n",
       "\n",
       "      top_0     top_1  prediction  \n",
       "0  0.450960  0.549040           1  \n",
       "1  0.272820  0.727180           1  \n",
       "2  0.475272  0.524728           1  \n",
       "3  0.301777  0.698223           1  \n",
       "4  0.220779  0.779221           1  "
      ]
     },
     "execution_count": 43,
     "metadata": {},
     "output_type": "execute_result"
    }
   ],
   "source": [
    "test.head()"
   ]
  },
  {
   "cell_type": "markdown",
   "metadata": {},
   "source": [
    "Про значения я читала вот *[тут](https://neerc.ifmo.ru/wiki/index.php?title=%D0%9E%D1%86%D0%B5%D0%BD%D0%BA%D0%B0_%D0%BA%D0%B0%D1%87%D0%B5%D1%81%D1%82%D0%B2%D0%B0_%D0%B2_%D0%B7%D0%B0%D0%B4%D0%B0%D1%87%D0%B0%D1%85_%D0%BA%D0%BB%D0%B0%D1%81%D1%81%D0%B8%D1%84%D0%B8%D0%BA%D0%B0%D1%86%D0%B8%D0%B8)* и вот *[тут](http://www.machinelearning.ru/wiki/images/archive/5/54/20151001171442%21Kitov-ML-05-Model_evaluation.pdf)*"
   ]
  },
  {
   "cell_type": "code",
   "execution_count": 44,
   "metadata": {},
   "outputs": [],
   "source": [
    "def tp_func(test):\n",
    "    return test[(test.bin_class == 1) & (test.prediction == 1)]\n",
    "\n",
    "\n",
    "def fp_func(test):\n",
    "    return test[(test.bin_class == 0) & (test.prediction == 1)]\n",
    "\n",
    "\n",
    "def tn_func(test):\n",
    "    return test[(test.bin_class == 0) & (test.prediction == 0)]\n",
    "\n",
    "\n",
    "def fn_func(test):\n",
    "    return test[(test.bin_class == 1) & (test.prediction == 0)]"
   ]
  },
  {
   "cell_type": "code",
   "execution_count": 45,
   "metadata": {},
   "outputs": [],
   "source": [
    "tp = tp_func(test).shape[0]\n",
    "fp = fp_func(test).shape[0]\n",
    "tn = tn_func(test).shape[0]\n",
    "fn = fn_func(test).shape[0]"
   ]
  },
  {
   "cell_type": "code",
   "execution_count": 46,
   "metadata": {},
   "outputs": [],
   "source": [
    "# точность\n",
    "\n",
    "def accuracy_f(tp, tn, fp, fn):\n",
    "    func = (tp + tn) / (\n",
    "        tp + tn + fp + fn)\n",
    "    return round(func, 4), func "
   ]
  },
  {
   "cell_type": "code",
   "execution_count": 47,
   "metadata": {},
   "outputs": [],
   "source": [
    "acc_sc = accuracy_f(tp, tn, fp, fn)[1]\n",
    "acc_sc_rnd = accuracy_f(tp, tn, fp, fn)[0]"
   ]
  },
  {
   "cell_type": "code",
   "execution_count": 48,
   "metadata": {},
   "outputs": [
    {
     "name": "stdout",
     "output_type": "stream",
     "text": [
      "0.88312 \n",
      " 0.8831\n"
     ]
    }
   ],
   "source": [
    "print(acc_sc, '\\n', acc_sc_rnd)"
   ]
  },
  {
   "cell_type": "code",
   "execution_count": 49,
   "metadata": {},
   "outputs": [],
   "source": [
    "# точность 2\n",
    "\n",
    "def precision_f(tp, fp):\n",
    "    func = tp / (tp + fp)\n",
    "    return round(func, 4), func"
   ]
  },
  {
   "cell_type": "code",
   "execution_count": 50,
   "metadata": {},
   "outputs": [],
   "source": [
    "prec = precision_f(tp, fp)[1]\n",
    "prec_rnd = precision_f(tp, fp)[0]"
   ]
  },
  {
   "cell_type": "code",
   "execution_count": 51,
   "metadata": {},
   "outputs": [
    {
     "name": "stdout",
     "output_type": "stream",
     "text": [
      "0.8841033044594161 \n",
      " 0.8841\n"
     ]
    }
   ],
   "source": [
    "print(prec, '\\n', prec_rnd)"
   ]
  },
  {
   "cell_type": "code",
   "execution_count": 52,
   "metadata": {},
   "outputs": [],
   "source": [
    "# полнота\n",
    "\n",
    "def recall_f(tp, fn):\n",
    "    func = tp / (tp + fn)\n",
    "    return round(func, 4), func"
   ]
  },
  {
   "cell_type": "code",
   "execution_count": 53,
   "metadata": {},
   "outputs": [],
   "source": [
    "rec = recall_f(tp, fn)[1]\n",
    "rec_rnd = recall_f(tp, fn)[0]"
   ]
  },
  {
   "cell_type": "code",
   "execution_count": 54,
   "metadata": {},
   "outputs": [
    {
     "name": "stdout",
     "output_type": "stream",
     "text": [
      "0.88184 \n",
      " 0.8818\n"
     ]
    }
   ],
   "source": [
    "print(rec, '\\n', rec_rnd)"
   ]
  },
  {
   "cell_type": "code",
   "execution_count": 55,
   "metadata": {},
   "outputs": [],
   "source": [
    "# f мера\n",
    "\n",
    "def f_m(tp, fn, fp):\n",
    "    func = 2 / ((1 / precision_f(tp, fp)[1]) + (1 / recall_f(tp, fn)[1]))\n",
    "    return round(func, 4), func"
   ]
  },
  {
   "cell_type": "code",
   "execution_count": 56,
   "metadata": {},
   "outputs": [],
   "source": [
    "f_sc = f_m(tp, fn, fp)[1]\n",
    "f_sc_rnd = f_m(tp, fn, fp)[0]"
   ]
  },
  {
   "cell_type": "code",
   "execution_count": 57,
   "metadata": {},
   "outputs": [
    {
     "name": "stdout",
     "output_type": "stream",
     "text": [
      "0.8829702018583787 \n",
      " 0.883\n"
     ]
    }
   ],
   "source": [
    "print(f_sc, '\\n', f_sc_rnd)"
   ]
  },
  {
   "cell_type": "markdown",
   "metadata": {},
   "source": [
    "Все выводы получаются такими же, как и в выбранном классификаторе: tf_idf + логистическая регрессия"
   ]
  },
  {
   "cell_type": "code",
   "execution_count": 58,
   "metadata": {},
   "outputs": [
    {
     "name": "stdout",
     "output_type": "stream",
     "text": [
      "Результаты sklearn: \n",
      "\n",
      "------\n",
      "\n",
      "acc=0.8831\n",
      "recall=0.8818\n",
      "precision=0.8841\n",
      "F_1 score=0.8830\n"
     ]
    }
   ],
   "source": [
    "print('Результаты sklearn: \\n\\n------\\n')\n",
    "print('acc={0:1.4f}'.format(acc))\n",
    "print('recall={0:1.4f}'.format(rcall))\n",
    "print('precision={0:1.4f}'.format(prc))\n",
    "print('F_1 score={0:1.4f}'.format(f_1))"
   ]
  },
  {
   "cell_type": "code",
   "execution_count": 59,
   "metadata": {},
   "outputs": [
    {
     "name": "stdout",
     "output_type": "stream",
     "text": [
      "Результаты на выводе функций: \n",
      "\n",
      "------\n",
      "\n",
      "acc=0.8831\n",
      "recall=0.8818\n",
      "precision=0.8841\n",
      "F_1 score=0.8830\n"
     ]
    }
   ],
   "source": [
    "print('Результаты на выводе функций: \\n\\n------\\n')\n",
    "print('acc={0:1.4f}'.format(acc_sc))\n",
    "print('recall={0:1.4f}'.format(rec))\n",
    "print('precision={0:1.4f}'.format(prec))\n",
    "print('F_1 score={0:1.4f}'.format(f_sc))"
   ]
  }
 ],
 "metadata": {
  "kernelspec": {
   "display_name": "Python 3",
   "language": "python",
   "name": "python3"
  },
  "language_info": {
   "codemirror_mode": {
    "name": "ipython",
    "version": 3
   },
   "file_extension": ".py",
   "mimetype": "text/x-python",
   "name": "python",
   "nbconvert_exporter": "python",
   "pygments_lexer": "ipython3",
   "version": "3.6.8"
  }
 },
 "nbformat": 4,
 "nbformat_minor": 2
}
